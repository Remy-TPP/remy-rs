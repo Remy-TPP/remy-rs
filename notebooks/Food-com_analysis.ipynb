{
 "cells": [
  {
   "cell_type": "markdown",
   "metadata": {},
   "source": [
    "### EDA (Exploratory Data Analysis) of [Food.com dataset](https://www.kaggle.com/shuyangli94/food-com-recipes-and-user-interactions)"
   ]
  },
  {
   "cell_type": "code",
   "execution_count": 2,
   "metadata": {
    "scrolled": true
   },
   "outputs": [
    {
     "name": "stdout",
     "output_type": "stream",
     "text": [
      "ingr_map.pkl\t\tinteractions_validation.csv  RAW_interactions.csv\r\n",
      "interactions_test.csv\tPP_recipes.csv\t\t     RAW_recipes.csv\r\n",
      "interactions_train.csv\tPP_users.csv\r\n"
     ]
    }
   ],
   "source": [
    "!ls datasets/food-com-recipes-and-user-interactions/"
   ]
  },
  {
   "cell_type": "code",
   "execution_count": 33,
   "metadata": {},
   "outputs": [
    {
     "name": "stdout",
     "output_type": "stream",
     "text": [
      "['Solarize_Light2', '_classic_test_patch', 'bmh', 'classic', 'dark_background', 'fast', 'fivethirtyeight', 'ggplot', 'grayscale', 'seaborn', 'seaborn-bright', 'seaborn-colorblind', 'seaborn-dark', 'seaborn-dark-palette', 'seaborn-darkgrid', 'seaborn-deep', 'seaborn-muted', 'seaborn-notebook', 'seaborn-paper', 'seaborn-pastel', 'seaborn-poster', 'seaborn-talk', 'seaborn-ticks', 'seaborn-white', 'seaborn-whitegrid', 'tableau-colorblind10']\n"
     ]
    }
   ],
   "source": [
    "import pandas as pd\n",
    "import numpy as np\n",
    "import matplotlib.cm as cmx\n",
    "import matplotlib.pyplot as plt\n",
    "import seaborn as sns\n",
    "\n",
    "print(plt.style.available)\n",
    "plt.style.use('seaborn-dark')"
   ]
  },
  {
   "cell_type": "code",
   "execution_count": 4,
   "metadata": {},
   "outputs": [],
   "source": [
    "train_df = pd.read_csv('./datasets/food-com-recipes-and-user-interactions/interactions_train.csv')\n",
    "test_df  = pd.read_csv('./datasets/food-com-recipes-and-user-interactions/interactions_test.csv')\n",
    "valid_df = pd.read_csv('./datasets/food-com-recipes-and-user-interactions/interactions_validation.csv')"
   ]
  },
  {
   "cell_type": "code",
   "execution_count": 5,
   "metadata": {},
   "outputs": [
    {
     "name": "stdout",
     "output_type": "stream",
     "text": [
      "<class 'pandas.core.frame.DataFrame'>\n",
      "RangeIndex: 698901 entries, 0 to 698900\n",
      "Data columns (total 6 columns):\n",
      " #   Column     Non-Null Count   Dtype  \n",
      "---  ------     --------------   -----  \n",
      " 0   user_id    698901 non-null  int64  \n",
      " 1   recipe_id  698901 non-null  int64  \n",
      " 2   date       698901 non-null  object \n",
      " 3   rating     698901 non-null  float64\n",
      " 4   u          698901 non-null  int64  \n",
      " 5   i          698901 non-null  int64  \n",
      "dtypes: float64(1), int64(4), object(1)\n",
      "memory usage: 32.0+ MB\n"
     ]
    }
   ],
   "source": [
    "train_df.info()"
   ]
  },
  {
   "cell_type": "code",
   "execution_count": 6,
   "metadata": {},
   "outputs": [
    {
     "data": {
      "text/plain": [
       "((698901, 6), (12455, 6), 56.114090726615814)"
      ]
     },
     "execution_count": 6,
     "metadata": {},
     "output_type": "execute_result"
    }
   ],
   "source": [
    "(train_df.shape, test_df.shape, train_df.shape[0] / test_df.shape[0])"
   ]
  },
  {
   "cell_type": "code",
   "execution_count": 7,
   "metadata": {},
   "outputs": [
    {
     "data": {
      "text/html": [
       "<div>\n",
       "<style scoped>\n",
       "    .dataframe tbody tr th:only-of-type {\n",
       "        vertical-align: middle;\n",
       "    }\n",
       "\n",
       "    .dataframe tbody tr th {\n",
       "        vertical-align: top;\n",
       "    }\n",
       "\n",
       "    .dataframe thead th {\n",
       "        text-align: right;\n",
       "    }\n",
       "</style>\n",
       "<table border=\"1\" class=\"dataframe\">\n",
       "  <thead>\n",
       "    <tr style=\"text-align: right;\">\n",
       "      <th></th>\n",
       "      <th>user_id</th>\n",
       "      <th>recipe_id</th>\n",
       "      <th>date</th>\n",
       "      <th>rating</th>\n",
       "      <th>u</th>\n",
       "      <th>i</th>\n",
       "    </tr>\n",
       "  </thead>\n",
       "  <tbody>\n",
       "    <tr>\n",
       "      <th>0</th>\n",
       "      <td>2046</td>\n",
       "      <td>4684</td>\n",
       "      <td>2000-02-25</td>\n",
       "      <td>5.0</td>\n",
       "      <td>22095</td>\n",
       "      <td>44367</td>\n",
       "    </tr>\n",
       "    <tr>\n",
       "      <th>1</th>\n",
       "      <td>2046</td>\n",
       "      <td>517</td>\n",
       "      <td>2000-02-25</td>\n",
       "      <td>5.0</td>\n",
       "      <td>22095</td>\n",
       "      <td>87844</td>\n",
       "    </tr>\n",
       "    <tr>\n",
       "      <th>2</th>\n",
       "      <td>1773</td>\n",
       "      <td>7435</td>\n",
       "      <td>2000-03-13</td>\n",
       "      <td>5.0</td>\n",
       "      <td>24732</td>\n",
       "      <td>138181</td>\n",
       "    </tr>\n",
       "    <tr>\n",
       "      <th>3</th>\n",
       "      <td>1773</td>\n",
       "      <td>278</td>\n",
       "      <td>2000-03-13</td>\n",
       "      <td>4.0</td>\n",
       "      <td>24732</td>\n",
       "      <td>93054</td>\n",
       "    </tr>\n",
       "    <tr>\n",
       "      <th>4</th>\n",
       "      <td>2046</td>\n",
       "      <td>3431</td>\n",
       "      <td>2000-04-07</td>\n",
       "      <td>5.0</td>\n",
       "      <td>22095</td>\n",
       "      <td>101723</td>\n",
       "    </tr>\n",
       "    <tr>\n",
       "      <th>...</th>\n",
       "      <td>...</td>\n",
       "      <td>...</td>\n",
       "      <td>...</td>\n",
       "      <td>...</td>\n",
       "      <td>...</td>\n",
       "      <td>...</td>\n",
       "    </tr>\n",
       "    <tr>\n",
       "      <th>698896</th>\n",
       "      <td>926904</td>\n",
       "      <td>457971</td>\n",
       "      <td>2018-12-18</td>\n",
       "      <td>5.0</td>\n",
       "      <td>13681</td>\n",
       "      <td>141067</td>\n",
       "    </tr>\n",
       "    <tr>\n",
       "      <th>698897</th>\n",
       "      <td>2002312797</td>\n",
       "      <td>27208</td>\n",
       "      <td>2018-12-18</td>\n",
       "      <td>5.0</td>\n",
       "      <td>14897</td>\n",
       "      <td>99787</td>\n",
       "    </tr>\n",
       "    <tr>\n",
       "      <th>698898</th>\n",
       "      <td>1290903</td>\n",
       "      <td>131607</td>\n",
       "      <td>2018-12-18</td>\n",
       "      <td>5.0</td>\n",
       "      <td>11605</td>\n",
       "      <td>76163</td>\n",
       "    </tr>\n",
       "    <tr>\n",
       "      <th>698899</th>\n",
       "      <td>226867</td>\n",
       "      <td>363072</td>\n",
       "      <td>2018-12-18</td>\n",
       "      <td>5.0</td>\n",
       "      <td>3604</td>\n",
       "      <td>29101</td>\n",
       "    </tr>\n",
       "    <tr>\n",
       "      <th>698900</th>\n",
       "      <td>2000498330</td>\n",
       "      <td>314535</td>\n",
       "      <td>2018-12-19</td>\n",
       "      <td>5.0</td>\n",
       "      <td>2248</td>\n",
       "      <td>21514</td>\n",
       "    </tr>\n",
       "  </tbody>\n",
       "</table>\n",
       "<p>698901 rows × 6 columns</p>\n",
       "</div>"
      ],
      "text/plain": [
       "           user_id  recipe_id        date  rating      u       i\n",
       "0             2046       4684  2000-02-25     5.0  22095   44367\n",
       "1             2046        517  2000-02-25     5.0  22095   87844\n",
       "2             1773       7435  2000-03-13     5.0  24732  138181\n",
       "3             1773        278  2000-03-13     4.0  24732   93054\n",
       "4             2046       3431  2000-04-07     5.0  22095  101723\n",
       "...            ...        ...         ...     ...    ...     ...\n",
       "698896      926904     457971  2018-12-18     5.0  13681  141067\n",
       "698897  2002312797      27208  2018-12-18     5.0  14897   99787\n",
       "698898     1290903     131607  2018-12-18     5.0  11605   76163\n",
       "698899      226867     363072  2018-12-18     5.0   3604   29101\n",
       "698900  2000498330     314535  2018-12-19     5.0   2248   21514\n",
       "\n",
       "[698901 rows x 6 columns]"
      ]
     },
     "execution_count": 7,
     "metadata": {},
     "output_type": "execute_result"
    }
   ],
   "source": [
    "train_df"
   ]
  },
  {
   "cell_type": "code",
   "execution_count": 8,
   "metadata": {},
   "outputs": [
    {
     "data": {
      "text/html": [
       "<div>\n",
       "<style scoped>\n",
       "    .dataframe tbody tr th:only-of-type {\n",
       "        vertical-align: middle;\n",
       "    }\n",
       "\n",
       "    .dataframe tbody tr th {\n",
       "        vertical-align: top;\n",
       "    }\n",
       "\n",
       "    .dataframe thead th {\n",
       "        text-align: right;\n",
       "    }\n",
       "</style>\n",
       "<table border=\"1\" class=\"dataframe\">\n",
       "  <thead>\n",
       "    <tr style=\"text-align: right;\">\n",
       "      <th></th>\n",
       "      <th>user_id</th>\n",
       "      <th>recipe_id</th>\n",
       "      <th>rating</th>\n",
       "      <th>u</th>\n",
       "      <th>i</th>\n",
       "    </tr>\n",
       "  </thead>\n",
       "  <tbody>\n",
       "    <tr>\n",
       "      <th>count</th>\n",
       "      <td>6.989010e+05</td>\n",
       "      <td>698901.000000</td>\n",
       "      <td>698901.000000</td>\n",
       "      <td>698901.000000</td>\n",
       "      <td>698901.000000</td>\n",
       "    </tr>\n",
       "    <tr>\n",
       "      <th>mean</th>\n",
       "      <td>1.247694e+07</td>\n",
       "      <td>156173.409849</td>\n",
       "      <td>4.574090</td>\n",
       "      <td>4249.330271</td>\n",
       "      <td>87519.330993</td>\n",
       "    </tr>\n",
       "    <tr>\n",
       "      <th>std</th>\n",
       "      <td>1.525031e+08</td>\n",
       "      <td>126594.880211</td>\n",
       "      <td>0.959022</td>\n",
       "      <td>5522.602821</td>\n",
       "      <td>51290.370370</td>\n",
       "    </tr>\n",
       "    <tr>\n",
       "      <th>min</th>\n",
       "      <td>1.533000e+03</td>\n",
       "      <td>38.000000</td>\n",
       "      <td>0.000000</td>\n",
       "      <td>0.000000</td>\n",
       "      <td>0.000000</td>\n",
       "    </tr>\n",
       "    <tr>\n",
       "      <th>25%</th>\n",
       "      <td>1.059880e+05</td>\n",
       "      <td>53169.000000</td>\n",
       "      <td>4.000000</td>\n",
       "      <td>455.000000</td>\n",
       "      <td>42988.000000</td>\n",
       "    </tr>\n",
       "    <tr>\n",
       "      <th>50%</th>\n",
       "      <td>2.301020e+05</td>\n",
       "      <td>116484.000000</td>\n",
       "      <td>5.000000</td>\n",
       "      <td>1737.000000</td>\n",
       "      <td>87424.000000</td>\n",
       "    </tr>\n",
       "    <tr>\n",
       "      <th>75%</th>\n",
       "      <td>4.801950e+05</td>\n",
       "      <td>234516.000000</td>\n",
       "      <td>5.000000</td>\n",
       "      <td>5919.000000</td>\n",
       "      <td>131731.000000</td>\n",
       "    </tr>\n",
       "    <tr>\n",
       "      <th>max</th>\n",
       "      <td>2.002313e+09</td>\n",
       "      <td>537458.000000</td>\n",
       "      <td>5.000000</td>\n",
       "      <td>25075.000000</td>\n",
       "      <td>178262.000000</td>\n",
       "    </tr>\n",
       "  </tbody>\n",
       "</table>\n",
       "</div>"
      ],
      "text/plain": [
       "            user_id      recipe_id         rating              u  \\\n",
       "count  6.989010e+05  698901.000000  698901.000000  698901.000000   \n",
       "mean   1.247694e+07  156173.409849       4.574090    4249.330271   \n",
       "std    1.525031e+08  126594.880211       0.959022    5522.602821   \n",
       "min    1.533000e+03      38.000000       0.000000       0.000000   \n",
       "25%    1.059880e+05   53169.000000       4.000000     455.000000   \n",
       "50%    2.301020e+05  116484.000000       5.000000    1737.000000   \n",
       "75%    4.801950e+05  234516.000000       5.000000    5919.000000   \n",
       "max    2.002313e+09  537458.000000       5.000000   25075.000000   \n",
       "\n",
       "                   i  \n",
       "count  698901.000000  \n",
       "mean    87519.330993  \n",
       "std     51290.370370  \n",
       "min         0.000000  \n",
       "25%     42988.000000  \n",
       "50%     87424.000000  \n",
       "75%    131731.000000  \n",
       "max    178262.000000  "
      ]
     },
     "execution_count": 8,
     "metadata": {},
     "output_type": "execute_result"
    }
   ],
   "source": [
    "train_df.describe()"
   ]
  },
  {
   "cell_type": "code",
   "execution_count": 9,
   "metadata": {},
   "outputs": [
    {
     "data": {
      "image/png": "[encoded data removed]",
      "text/plain": [
       "<Figure size 432x288 with 1 Axes>"
      ]
     },
     "metadata": {},
     "output_type": "display_data"
    }
   ],
   "source": [
    "#train_df.hist(column='rating', bins=range(6+1));\n",
    "def nice_hist(data):\n",
    "    labels, counts = np.unique(data, return_counts=True)\n",
    "    plt.bar(labels, counts, align='center')\n",
    "    plt.gca().set_xticks(labels)\n",
    "    plt.show()\n",
    "\n",
    "nice_hist(train_df[['rating']])"
   ]
  },
  {
   "cell_type": "code",
   "execution_count": 10,
   "metadata": {},
   "outputs": [
    {
     "data": {
      "image/png": "[encoded data removed]",
      "text/plain": [
       "<Figure size 432x288 with 1 Axes>"
      ]
     },
     "metadata": {},
     "output_type": "display_data"
    }
   ],
   "source": [
    "nice_hist(test_df[['rating']])"
   ]
  },
  {
   "cell_type": "code",
   "execution_count": 9,
   "metadata": {},
   "outputs": [
    {
     "data": {
      "image/png": "[encoded data removed]",
      "text/plain": [
       "<Figure size 432x288 with 1 Axes>"
      ]
     },
     "metadata": {},
     "output_type": "display_data"
    }
   ],
   "source": [
    "nice_hist(valid_df[['rating']])"
   ]
  },
  {
   "cell_type": "code",
   "execution_count": 32,
   "metadata": {},
   "outputs": [
    {
     "data": {
      "image/png": "[encoded data removed]",
      "text/plain": [
       "<Figure size 1008x432 with 1 Axes>"
      ]
     },
     "metadata": {},
     "output_type": "display_data"
    }
   ],
   "source": [
    "plt.figure(figsize=(14, 6))\n",
    "labels, counts_train = np.unique(train_df[['rating']], return_counts=True)\n",
    "_,      counts_test  = np.unique(test_df[['rating']],  return_counts=True)\n",
    "bar_width = 0.4\n",
    "plt.bar(labels - bar_width / 2 - 0.01, (counts_train / len(train_df)), bar_width, align='center')\n",
    "plt.bar(labels + bar_width / 2 + 0.01, (counts_test / len(test_df)), bar_width, align='center')\n",
    "plt.gca().set_xticks(labels)\n",
    "plt.grid()\n",
    "plt.show()"
   ]
  },
  {
   "cell_type": "markdown",
   "metadata": {},
   "source": [
    "Parecería que **el testset está significativamente más balanceado a lo largo de los ratings** que el trainset, aún si todavía hay una gran preponderancia de los ratings altos."
   ]
  },
  {
   "cell_type": "code",
   "execution_count": 14,
   "metadata": {},
   "outputs": [
    {
     "data": {
      "image/png": "[encoded data removed]",
      "text/plain": [
       "<Figure size 432x288 with 1 Axes>"
      ]
     },
     "metadata": {},
     "output_type": "display_data"
    }
   ],
   "source": [
    "rating_count_per_user = train_df.groupby('user_id')[['rating']].count()\n",
    "\n",
    "rating_count_per_user.hist(bins=100)\n",
    "plt.title('Rating count per user');"
   ]
  },
  {
   "cell_type": "code",
   "execution_count": 15,
   "metadata": {},
   "outputs": [
    {
     "data": {
      "image/png": "[encoded data removed]",
      "text/plain": [
       "<Figure size 432x288 with 1 Axes>"
      ]
     },
     "metadata": {},
     "output_type": "display_data"
    }
   ],
   "source": [
    "rating_count_per_user.hist(bins=1000)\n",
    "plt.gca().set_xlim([0, 500])\n",
    "plt.gca().set_ylim([0, 1000])\n",
    "plt.title('Rating count per user, rough zoom')\n",
    "plt.show()"
   ]
  },
  {
   "cell_type": "code",
   "execution_count": 26,
   "metadata": {},
   "outputs": [
    {
     "name": "stdout",
     "output_type": "stream",
     "text": [
      "Only 1153 (4.598 %) of users have made more than 100 reviews.\n",
      "Only 8640 (34.455 %) of users have made more than 10 reviews.\n",
      "7685 (30.647 %) of users have made 3 reviews or less.\n"
     ]
    }
   ],
   "source": [
    "print(\n",
    "    f\"Only {int(rating_count_per_user[rating_count_per_user > 100].count())} \"\n",
    "    f\"({100 * float(rating_count_per_user[rating_count_per_user > 100].count() / rating_count_per_user.shape[0]):.3f} %)\"\n",
    "    \" of users have made more than 100 reviews.\"\n",
    ")\n",
    "print(\n",
    "    f\"Only {int(rating_count_per_user[rating_count_per_user > 10].count())} \"\n",
    "    f\"({100 * float(rating_count_per_user[rating_count_per_user > 10].count() / rating_count_per_user.shape[0]):.3f} %)\"\n",
    "    \" of users have made more than 10 reviews.\"\n",
    ")\n",
    "print(\n",
    "    f\"{int(rating_count_per_user[rating_count_per_user <= 3].count())} \"\n",
    "    f\"({100 * float(rating_count_per_user[rating_count_per_user <= 3].count() / rating_count_per_user.shape[0]):.3f} %)\"\n",
    "    \" of users have made 3 reviews or less.\"\n",
    ")"
   ]
  },
  {
   "cell_type": "code",
   "execution_count": 34,
   "metadata": {},
   "outputs": [],
   "source": [
    "avg_rating_per_user = train_df.groupby('user_id')[['rating']].mean()"
   ]
  },
  {
   "cell_type": "code",
   "execution_count": 49,
   "metadata": {},
   "outputs": [
    {
     "data": {
      "text/html": [
       "<div>\n",
       "<style scoped>\n",
       "    .dataframe tbody tr th:only-of-type {\n",
       "        vertical-align: middle;\n",
       "    }\n",
       "\n",
       "    .dataframe tbody tr th {\n",
       "        vertical-align: top;\n",
       "    }\n",
       "\n",
       "    .dataframe thead th {\n",
       "        text-align: right;\n",
       "    }\n",
       "</style>\n",
       "<table border=\"1\" class=\"dataframe\">\n",
       "  <thead>\n",
       "    <tr style=\"text-align: right;\">\n",
       "      <th></th>\n",
       "      <th>rating</th>\n",
       "    </tr>\n",
       "    <tr>\n",
       "      <th>user_id</th>\n",
       "      <th></th>\n",
       "    </tr>\n",
       "  </thead>\n",
       "  <tbody>\n",
       "    <tr>\n",
       "      <th>1533</th>\n",
       "      <td>4.747826</td>\n",
       "    </tr>\n",
       "    <tr>\n",
       "      <th>1535</th>\n",
       "      <td>4.476117</td>\n",
       "    </tr>\n",
       "    <tr>\n",
       "      <th>1634</th>\n",
       "      <td>3.875000</td>\n",
       "    </tr>\n",
       "    <tr>\n",
       "      <th>1676</th>\n",
       "      <td>4.583333</td>\n",
       "    </tr>\n",
       "    <tr>\n",
       "      <th>1773</th>\n",
       "      <td>4.500000</td>\n",
       "    </tr>\n",
       "    <tr>\n",
       "      <th>...</th>\n",
       "      <td>...</td>\n",
       "    </tr>\n",
       "    <tr>\n",
       "      <th>2002204415</th>\n",
       "      <td>4.500000</td>\n",
       "    </tr>\n",
       "    <tr>\n",
       "      <th>2002214643</th>\n",
       "      <td>5.000000</td>\n",
       "    </tr>\n",
       "    <tr>\n",
       "      <th>2002227190</th>\n",
       "      <td>3.666667</td>\n",
       "    </tr>\n",
       "    <tr>\n",
       "      <th>2002254807</th>\n",
       "      <td>3.000000</td>\n",
       "    </tr>\n",
       "    <tr>\n",
       "      <th>2002312797</th>\n",
       "      <td>4.500000</td>\n",
       "    </tr>\n",
       "  </tbody>\n",
       "</table>\n",
       "<p>25076 rows × 1 columns</p>\n",
       "</div>"
      ],
      "text/plain": [
       "              rating\n",
       "user_id             \n",
       "1533        4.747826\n",
       "1535        4.476117\n",
       "1634        3.875000\n",
       "1676        4.583333\n",
       "1773        4.500000\n",
       "...              ...\n",
       "2002204415  4.500000\n",
       "2002214643  5.000000\n",
       "2002227190  3.666667\n",
       "2002254807  3.000000\n",
       "2002312797  4.500000\n",
       "\n",
       "[25076 rows x 1 columns]"
      ]
     },
     "execution_count": 49,
     "metadata": {},
     "output_type": "execute_result"
    }
   ],
   "source": [
    "avg_rating_per_user"
   ]
  },
  {
   "cell_type": "code",
   "execution_count": 66,
   "metadata": {},
   "outputs": [],
   "source": [
    "import matplotlib.colors as colors\n",
    "cmap = plt.get_cmap('RdYlGn')\n",
    "\n",
    "def hist_with_gradient(data):\n",
    "    n, bins, patches = plt.hist(avg_rating_per_user['rating'], bins=50)\n",
    "    bin_centers = 0.5 * (bins[:-1] + bins[1:])\n",
    "    cols = bin_centers - min(bin_centers)\n",
    "    cols /= max(cols)\n",
    "    for c, p in zip(cols, patches):\n",
    "        plt.setp(p, 'facecolor', cmap(c))\n",
    "    plt.grid()"
   ]
  },
  {
   "cell_type": "code",
   "execution_count": 176,
   "metadata": {},
   "outputs": [
    {
     "data": {
      "image/png": "[encoded data removed]",
      "text/plain": [
       "<Figure size 432x288 with 1 Axes>"
      ]
     },
     "metadata": {},
     "output_type": "display_data"
    },
    {
     "data": {
      "image/png": "[encoded data removed]",
      "text/plain": [
       "<Figure size 432x288 with 1 Axes>"
      ]
     },
     "metadata": {},
     "output_type": "display_data"
    }
   ],
   "source": [
    "hist_with_gradient(avg_rating_per_user['rating'])\n",
    "plt.title(\"Average rating per user\")\n",
    "plt.gca().set_ylabel('Frequency')\n",
    "plt.grid()\n",
    "plt.show()\n",
    "\n",
    "hist_with_gradient(avg_rating_per_user['rating'])\n",
    "plt.gca().set_ylim([None, 2800])\n",
    "plt.gca().set_ylabel('Frequency')\n",
    "plt.title(\"Average rating per user, zoomed to show smaller values\");\n",
    "plt.grid()"
   ]
  },
  {
   "cell_type": "code",
   "execution_count": 87,
   "metadata": {},
   "outputs": [
    {
     "name": "stdout",
     "output_type": "stream",
     "text": [
      "0.851 % of users average a rating of 4 or more\n"
     ]
    }
   ],
   "source": [
    "prop = avg_rating_per_user[avg_rating_per_user >= 4].count() / avg_rating_per_user.count()\n",
    "print(f'{float(prop):.3f} % of users average a rating of 4 or more')"
   ]
  },
  {
   "cell_type": "markdown",
   "metadata": {},
   "source": [
    "Rating is done on the range [0; 5] and only integers can be chosen. This means most of the time people just rate 5 stars. This could be because people mostly decide to review something when it's really good."
   ]
  },
  {
   "cell_type": "code",
   "execution_count": 102,
   "metadata": {},
   "outputs": [
    {
     "data": {
      "text/html": [
       "<div>\n",
       "<style scoped>\n",
       "    .dataframe tbody tr th:only-of-type {\n",
       "        vertical-align: middle;\n",
       "    }\n",
       "\n",
       "    .dataframe tbody tr th {\n",
       "        vertical-align: top;\n",
       "    }\n",
       "\n",
       "    .dataframe thead th {\n",
       "        text-align: right;\n",
       "    }\n",
       "</style>\n",
       "<table border=\"1\" class=\"dataframe\">\n",
       "  <thead>\n",
       "    <tr style=\"text-align: right;\">\n",
       "      <th></th>\n",
       "      <th>rating</th>\n",
       "    </tr>\n",
       "    <tr>\n",
       "      <th>user_id</th>\n",
       "      <th></th>\n",
       "    </tr>\n",
       "  </thead>\n",
       "  <tbody>\n",
       "    <tr>\n",
       "      <th>1533</th>\n",
       "      <td>4.747826</td>\n",
       "    </tr>\n",
       "    <tr>\n",
       "      <th>1535</th>\n",
       "      <td>4.476117</td>\n",
       "    </tr>\n",
       "    <tr>\n",
       "      <th>1634</th>\n",
       "      <td>3.875000</td>\n",
       "    </tr>\n",
       "    <tr>\n",
       "      <th>1676</th>\n",
       "      <td>4.583333</td>\n",
       "    </tr>\n",
       "    <tr>\n",
       "      <th>1773</th>\n",
       "      <td>4.500000</td>\n",
       "    </tr>\n",
       "    <tr>\n",
       "      <th>...</th>\n",
       "      <td>...</td>\n",
       "    </tr>\n",
       "    <tr>\n",
       "      <th>2002204415</th>\n",
       "      <td>4.500000</td>\n",
       "    </tr>\n",
       "    <tr>\n",
       "      <th>2002214643</th>\n",
       "      <td>5.000000</td>\n",
       "    </tr>\n",
       "    <tr>\n",
       "      <th>2002227190</th>\n",
       "      <td>3.666667</td>\n",
       "    </tr>\n",
       "    <tr>\n",
       "      <th>2002254807</th>\n",
       "      <td>3.000000</td>\n",
       "    </tr>\n",
       "    <tr>\n",
       "      <th>2002312797</th>\n",
       "      <td>4.500000</td>\n",
       "    </tr>\n",
       "  </tbody>\n",
       "</table>\n",
       "<p>25076 rows × 1 columns</p>\n",
       "</div>"
      ],
      "text/plain": [
       "              rating\n",
       "user_id             \n",
       "1533        4.747826\n",
       "1535        4.476117\n",
       "1634        3.875000\n",
       "1676        4.583333\n",
       "1773        4.500000\n",
       "...              ...\n",
       "2002204415  4.500000\n",
       "2002214643  5.000000\n",
       "2002227190  3.666667\n",
       "2002254807  3.000000\n",
       "2002312797  4.500000\n",
       "\n",
       "[25076 rows x 1 columns]"
      ]
     },
     "execution_count": 102,
     "metadata": {},
     "output_type": "execute_result"
    }
   ],
   "source": [
    "avg_rating_per_user"
   ]
  },
  {
   "cell_type": "code",
   "execution_count": 104,
   "metadata": {},
   "outputs": [
    {
     "data": {
      "text/plain": [
       "rating    4.747826\n",
       "Name: 1533, dtype: float64"
      ]
     },
     "execution_count": 104,
     "metadata": {},
     "output_type": "execute_result"
    }
   ],
   "source": [
    "avg_rating_per_user.loc[1533]"
   ]
  },
  {
   "cell_type": "code",
   "execution_count": 151,
   "metadata": {},
   "outputs": [],
   "source": [
    "is_low_rater = avg_rating_per_user.loc[train_df['user_id']]['rating'] <= 1.0\n",
    "# Would've been easier by just creating a dataframe of avg rating and rating count per user\n",
    "low_raters = train_df[is_low_rater.to_list()]"
   ]
  },
  {
   "cell_type": "code",
   "execution_count": 129,
   "metadata": {},
   "outputs": [
    {
     "data": {
      "text/html": [
       "<div>\n",
       "<style scoped>\n",
       "    .dataframe tbody tr th:only-of-type {\n",
       "        vertical-align: middle;\n",
       "    }\n",
       "\n",
       "    .dataframe tbody tr th {\n",
       "        vertical-align: top;\n",
       "    }\n",
       "\n",
       "    .dataframe thead th {\n",
       "        text-align: right;\n",
       "    }\n",
       "</style>\n",
       "<table border=\"1\" class=\"dataframe\">\n",
       "  <thead>\n",
       "    <tr style=\"text-align: right;\">\n",
       "      <th></th>\n",
       "      <th>user_id</th>\n",
       "      <th>recipe_id</th>\n",
       "      <th>date</th>\n",
       "      <th>rating</th>\n",
       "      <th>u</th>\n",
       "      <th>i</th>\n",
       "    </tr>\n",
       "  </thead>\n",
       "  <tbody>\n",
       "    <tr>\n",
       "      <th>134</th>\n",
       "      <td>12200</td>\n",
       "      <td>9186</td>\n",
       "      <td>2001-07-05</td>\n",
       "      <td>5.0</td>\n",
       "      <td>12502</td>\n",
       "      <td>113765</td>\n",
       "    </tr>\n",
       "    <tr>\n",
       "      <th>136</th>\n",
       "      <td>12200</td>\n",
       "      <td>3595</td>\n",
       "      <td>2001-07-05</td>\n",
       "      <td>5.0</td>\n",
       "      <td>12502</td>\n",
       "      <td>66298</td>\n",
       "    </tr>\n",
       "    <tr>\n",
       "      <th>139</th>\n",
       "      <td>12200</td>\n",
       "      <td>9998</td>\n",
       "      <td>2001-07-06</td>\n",
       "      <td>0.0</td>\n",
       "      <td>12502</td>\n",
       "      <td>155957</td>\n",
       "    </tr>\n",
       "    <tr>\n",
       "      <th>140</th>\n",
       "      <td>12200</td>\n",
       "      <td>9985</td>\n",
       "      <td>2001-07-06</td>\n",
       "      <td>0.0</td>\n",
       "      <td>12502</td>\n",
       "      <td>155963</td>\n",
       "    </tr>\n",
       "    <tr>\n",
       "      <th>144</th>\n",
       "      <td>12200</td>\n",
       "      <td>10086</td>\n",
       "      <td>2001-07-09</td>\n",
       "      <td>0.0</td>\n",
       "      <td>12502</td>\n",
       "      <td>60533</td>\n",
       "    </tr>\n",
       "    <tr>\n",
       "      <th>...</th>\n",
       "      <td>...</td>\n",
       "      <td>...</td>\n",
       "      <td>...</td>\n",
       "      <td>...</td>\n",
       "      <td>...</td>\n",
       "      <td>...</td>\n",
       "    </tr>\n",
       "    <tr>\n",
       "      <th>698688</th>\n",
       "      <td>2001688000</td>\n",
       "      <td>131607</td>\n",
       "      <td>2018-10-28</td>\n",
       "      <td>0.0</td>\n",
       "      <td>7790</td>\n",
       "      <td>76163</td>\n",
       "    </tr>\n",
       "    <tr>\n",
       "      <th>698733</th>\n",
       "      <td>2002048922</td>\n",
       "      <td>66191</td>\n",
       "      <td>2018-11-04</td>\n",
       "      <td>0.0</td>\n",
       "      <td>22441</td>\n",
       "      <td>108563</td>\n",
       "    </tr>\n",
       "    <tr>\n",
       "      <th>698753</th>\n",
       "      <td>2001220317</td>\n",
       "      <td>239829</td>\n",
       "      <td>2018-11-07</td>\n",
       "      <td>0.0</td>\n",
       "      <td>18775</td>\n",
       "      <td>26863</td>\n",
       "    </tr>\n",
       "    <tr>\n",
       "      <th>698850</th>\n",
       "      <td>493093</td>\n",
       "      <td>286047</td>\n",
       "      <td>2018-12-07</td>\n",
       "      <td>1.0</td>\n",
       "      <td>7637</td>\n",
       "      <td>143537</td>\n",
       "    </tr>\n",
       "    <tr>\n",
       "      <th>698852</th>\n",
       "      <td>165217</td>\n",
       "      <td>116181</td>\n",
       "      <td>2018-12-07</td>\n",
       "      <td>0.0</td>\n",
       "      <td>4385</td>\n",
       "      <td>54256</td>\n",
       "    </tr>\n",
       "  </tbody>\n",
       "</table>\n",
       "<p>726 rows × 6 columns</p>\n",
       "</div>"
      ],
      "text/plain": [
       "           user_id  recipe_id        date  rating      u       i\n",
       "134          12200       9186  2001-07-05     5.0  12502  113765\n",
       "136          12200       3595  2001-07-05     5.0  12502   66298\n",
       "139          12200       9998  2001-07-06     0.0  12502  155957\n",
       "140          12200       9985  2001-07-06     0.0  12502  155963\n",
       "144          12200      10086  2001-07-09     0.0  12502   60533\n",
       "...            ...        ...         ...     ...    ...     ...\n",
       "698688  2001688000     131607  2018-10-28     0.0   7790   76163\n",
       "698733  2002048922      66191  2018-11-04     0.0  22441  108563\n",
       "698753  2001220317     239829  2018-11-07     0.0  18775   26863\n",
       "698850      493093     286047  2018-12-07     1.0   7637  143537\n",
       "698852      165217     116181  2018-12-07     0.0   4385   54256\n",
       "\n",
       "[726 rows x 6 columns]"
      ]
     },
     "execution_count": 129,
     "metadata": {},
     "output_type": "execute_result"
    }
   ],
   "source": [
    "low_raters"
   ]
  },
  {
   "cell_type": "code",
   "execution_count": 177,
   "metadata": {},
   "outputs": [
    {
     "data": {
      "image/png": "[encoded data removed]",
      "text/plain": [
       "<Figure size 1008x432 with 1 Axes>"
      ]
     },
     "metadata": {},
     "output_type": "display_data"
    },
    {
     "name": "stdout",
     "output_type": "stream",
     "text": [
      "0.874 % of low raters left 5 or fewer reviews\n"
     ]
    }
   ],
   "source": [
    "rating_count_per_low_rater = low_raters.groupby('user_id')['user_id'].count()\n",
    "plt.figure(figsize=(14, 6))\n",
    "plt.hist(rating_count_per_low_rater, bins=max(rating_count_per_low_rater) + 1);\n",
    "plt.grid()\n",
    "plt.show()\n",
    "\n",
    "prop = rating_count_per_low_rater[rating_count_per_low_rater <= 5].count() / rating_count_per_low_rater.count()\n",
    "print(f'{float(prop):.3f} % of low raters left 5 or fewer reviews')"
   ]
  },
  {
   "cell_type": "markdown",
   "metadata": {},
   "source": [
    "This small observation shows that most people whose average rating was 1 or less usually left very few reviews. Also, the dataset must be filtered to leave out people with only 1 review (which makes sense not only to leave out one-time users but also because you can't predict for someone with one data point)."
   ]
  },
  {
   "cell_type": "markdown",
   "metadata": {},
   "source": [
    "Veo ahora la **desviación estándar** de rating por usuario"
   ]
  },
  {
   "cell_type": "code",
   "execution_count": 24,
   "metadata": {},
   "outputs": [],
   "source": [
    "std_rating_per_user = train_df.groupby('user_id')[['rating']].std()"
   ]
  },
  {
   "cell_type": "code",
   "execution_count": 29,
   "metadata": {},
   "outputs": [
    {
     "data": {
      "text/html": [
       "<div>\n",
       "<style scoped>\n",
       "    .dataframe tbody tr th:only-of-type {\n",
       "        vertical-align: middle;\n",
       "    }\n",
       "\n",
       "    .dataframe tbody tr th {\n",
       "        vertical-align: top;\n",
       "    }\n",
       "\n",
       "    .dataframe thead th {\n",
       "        text-align: right;\n",
       "    }\n",
       "</style>\n",
       "<table border=\"1\" class=\"dataframe\">\n",
       "  <thead>\n",
       "    <tr style=\"text-align: right;\">\n",
       "      <th></th>\n",
       "      <th>rating</th>\n",
       "    </tr>\n",
       "    <tr>\n",
       "      <th>user_id</th>\n",
       "      <th></th>\n",
       "    </tr>\n",
       "  </thead>\n",
       "  <tbody>\n",
       "    <tr>\n",
       "      <th>1533</th>\n",
       "      <td>0.723581</td>\n",
       "    </tr>\n",
       "    <tr>\n",
       "      <th>1535</th>\n",
       "      <td>0.775672</td>\n",
       "    </tr>\n",
       "    <tr>\n",
       "      <th>1634</th>\n",
       "      <td>1.524621</td>\n",
       "    </tr>\n",
       "    <tr>\n",
       "      <th>1676</th>\n",
       "      <td>0.974308</td>\n",
       "    </tr>\n",
       "    <tr>\n",
       "      <th>1773</th>\n",
       "      <td>0.707107</td>\n",
       "    </tr>\n",
       "    <tr>\n",
       "      <th>...</th>\n",
       "      <td>...</td>\n",
       "    </tr>\n",
       "    <tr>\n",
       "      <th>2002204415</th>\n",
       "      <td>0.707107</td>\n",
       "    </tr>\n",
       "    <tr>\n",
       "      <th>2002214643</th>\n",
       "      <td>0.000000</td>\n",
       "    </tr>\n",
       "    <tr>\n",
       "      <th>2002227190</th>\n",
       "      <td>0.577350</td>\n",
       "    </tr>\n",
       "    <tr>\n",
       "      <th>2002254807</th>\n",
       "      <td>2.738613</td>\n",
       "    </tr>\n",
       "    <tr>\n",
       "      <th>2002312797</th>\n",
       "      <td>0.707107</td>\n",
       "    </tr>\n",
       "  </tbody>\n",
       "</table>\n",
       "<p>25076 rows × 1 columns</p>\n",
       "</div>"
      ],
      "text/plain": [
       "              rating\n",
       "user_id             \n",
       "1533        0.723581\n",
       "1535        0.775672\n",
       "1634        1.524621\n",
       "1676        0.974308\n",
       "1773        0.707107\n",
       "...              ...\n",
       "2002204415  0.707107\n",
       "2002214643  0.000000\n",
       "2002227190  0.577350\n",
       "2002254807  2.738613\n",
       "2002312797  0.707107\n",
       "\n",
       "[25076 rows x 1 columns]"
      ]
     },
     "execution_count": 29,
     "metadata": {},
     "output_type": "execute_result"
    }
   ],
   "source": [
    "std_rating_per_user"
   ]
  },
  {
   "cell_type": "code",
   "execution_count": 54,
   "metadata": {},
   "outputs": [
    {
     "data": {
      "image/png": "[encoded data removed]",
      "text/plain": [
       "<Figure size 936x468 with 1 Axes>"
      ]
     },
     "metadata": {},
     "output_type": "display_data"
    }
   ],
   "source": [
    "plt.figure(figsize=(13,6.5))\n",
    "plt.hist(std_rating_per_user['rating'], bins=100)\n",
    "plt.title('Standard deviation rating per user');"
   ]
  },
  {
   "cell_type": "code",
   "execution_count": 42,
   "metadata": {},
   "outputs": [
    {
     "data": {
      "image/png": "[encoded data removed]",
      "text/plain": [
       "<Figure size 432x288 with 1 Axes>"
      ]
     },
     "metadata": {},
     "output_type": "display_data"
    }
   ],
   "source": [
    "avg_for_users_with_no_std = avg_rating_per_user[std_rating_per_user['rating'] == 0.0]['rating']\n",
    "plt.hist(avg_for_users_with_no_std, bins=50);"
   ]
  },
  {
   "cell_type": "markdown",
   "metadata": {},
   "source": [
    "This histogram looks pretty much like the general one. This must simply be users who have rated very few things."
   ]
  },
  {
   "cell_type": "code",
   "execution_count": 57,
   "metadata": {},
   "outputs": [
    {
     "data": {
      "image/png": "[encoded data removed]",
      "text/plain": [
       "<Figure size 936x468 with 1 Axes>"
      ]
     },
     "metadata": {},
     "output_type": "display_data"
    }
   ],
   "source": [
    "plt.figure(figsize=(13,6.5))\n",
    "plt.hist(std_rating_per_user[std_rating_per_user['rating'] > 0.0]['rating'], bins=100)\n",
    "plt.title('Standard deviation rating per user, ignoring those with no deviation');"
   ]
  },
  {
   "cell_type": "code",
   "execution_count": 63,
   "metadata": {},
   "outputs": [
    {
     "name": "stdout",
     "output_type": "stream",
     "text": [
      "0.691 % of users have ratings with a std-dev below 1.0\n"
     ]
    }
   ],
   "source": [
    "pct = float(std_rating_per_user[std_rating_per_user['rating'] < 1.0].count() / std_rating_per_user.shape[0])\n",
    "print(f'{pct:.3f} % of users have ratings with a std-dev below 1.0')"
   ]
  },
  {
   "cell_type": "code",
   "execution_count": 58,
   "metadata": {},
   "outputs": [
    {
     "data": {
      "text/plain": [
       "(25076, 1)"
      ]
     },
     "execution_count": 58,
     "metadata": {},
     "output_type": "execute_result"
    }
   ],
   "source": [
    "std_rating_per_user.shape"
   ]
  },
  {
   "cell_type": "code",
   "execution_count": 230,
   "metadata": {},
   "outputs": [
    {
     "name": "stdout",
     "output_type": "stream",
     "text": [
      "Only 402 (0.250 %) recipes have more than 100 reviews.\n",
      "Only 27018 (16.792 %) recipes have more than 5 reviews!\n",
      "98286 (61.085 %) recipes have only 1 or 2 reviews!!\n"
     ]
    }
   ],
   "source": [
    "rating_count_per_recipe = train_df.groupby('recipe_id')[['rating']].count()\n",
    "#rating_count_per_recipe.rename(columns={'rating': 'count'})\n",
    "print(\n",
    "    f\"Only {int(rating_count_per_recipe[rating_count_per_recipe > 100].count())} \"\n",
    "    f\"({100 * float(rating_count_per_recipe[rating_count_per_recipe > 100].count() / rating_count_per_recipe.count()):.3f} %)\"\n",
    "    \" recipes have more than 100 reviews.\"\n",
    ")\n",
    "print(\n",
    "    f\"Only {int(rating_count_per_recipe[rating_count_per_recipe > 5].count())} \"\n",
    "    f\"({100 * float(rating_count_per_recipe[rating_count_per_recipe > 5].count() / rating_count_per_recipe.count()):.3f} %)\"\n",
    "    \" recipes have more than 5 reviews!\"\n",
    ")\n",
    "print(\n",
    "    f\"{int(rating_count_per_recipe[rating_count_per_recipe <= 2].count())} \"\n",
    "    f\"({100 * float(rating_count_per_recipe[rating_count_per_recipe <= 2].count() / rating_count_per_recipe.count()):.3f} %)\"\n",
    "    \" recipes have only 1 or 2 reviews!!\"\n",
    ")"
   ]
  },
  {
   "cell_type": "markdown",
   "metadata": {},
   "source": [
    "Very few recipes have more than 100 reviews, so i'll just ignore those for plotting."
   ]
  },
  {
   "cell_type": "code",
   "execution_count": 43,
   "metadata": {},
   "outputs": [
    {
     "data": {
      "image/png": "[encoded data removed]",
      "text/plain": [
       "<Figure size 1152x576 with 1 Axes>"
      ]
     },
     "metadata": {},
     "output_type": "display_data"
    }
   ],
   "source": [
    "plt.figure(figsize=(16,8))\n",
    "plt.hist(rating_count_per_recipe[rating_count_per_recipe['rating'] < 100]['rating'], bins=100)\n",
    "plt.grid()"
   ]
  },
  {
   "cell_type": "code",
   "execution_count": 47,
   "metadata": {},
   "outputs": [
    {
     "data": {
      "text/html": [
       "<div>\n",
       "<style scoped>\n",
       "    .dataframe tbody tr th:only-of-type {\n",
       "        vertical-align: middle;\n",
       "    }\n",
       "\n",
       "    .dataframe tbody tr th {\n",
       "        vertical-align: top;\n",
       "    }\n",
       "\n",
       "    .dataframe thead th {\n",
       "        text-align: right;\n",
       "    }\n",
       "</style>\n",
       "<table border=\"1\" class=\"dataframe\">\n",
       "  <thead>\n",
       "    <tr style=\"text-align: right;\">\n",
       "      <th></th>\n",
       "      <th>rating</th>\n",
       "    </tr>\n",
       "    <tr>\n",
       "      <th>recipe_id</th>\n",
       "      <th></th>\n",
       "    </tr>\n",
       "  </thead>\n",
       "  <tbody>\n",
       "    <tr>\n",
       "      <th>77397</th>\n",
       "      <td>546</td>\n",
       "    </tr>\n",
       "    <tr>\n",
       "      <th>63689</th>\n",
       "      <td>570</td>\n",
       "    </tr>\n",
       "    <tr>\n",
       "      <th>67256</th>\n",
       "      <td>625</td>\n",
       "    </tr>\n",
       "    <tr>\n",
       "      <th>33919</th>\n",
       "      <td>629</td>\n",
       "    </tr>\n",
       "    <tr>\n",
       "      <th>82102</th>\n",
       "      <td>655</td>\n",
       "    </tr>\n",
       "    <tr>\n",
       "      <th>28148</th>\n",
       "      <td>666</td>\n",
       "    </tr>\n",
       "    <tr>\n",
       "      <th>25885</th>\n",
       "      <td>677</td>\n",
       "    </tr>\n",
       "    <tr>\n",
       "      <th>68955</th>\n",
       "      <td>681</td>\n",
       "    </tr>\n",
       "    <tr>\n",
       "      <th>22782</th>\n",
       "      <td>738</td>\n",
       "    </tr>\n",
       "    <tr>\n",
       "      <th>54257</th>\n",
       "      <td>758</td>\n",
       "    </tr>\n",
       "    <tr>\n",
       "      <th>69173</th>\n",
       "      <td>787</td>\n",
       "    </tr>\n",
       "    <tr>\n",
       "      <th>39087</th>\n",
       "      <td>894</td>\n",
       "    </tr>\n",
       "    <tr>\n",
       "      <th>32204</th>\n",
       "      <td>897</td>\n",
       "    </tr>\n",
       "    <tr>\n",
       "      <th>89204</th>\n",
       "      <td>1075</td>\n",
       "    </tr>\n",
       "    <tr>\n",
       "      <th>27208</th>\n",
       "      <td>1091</td>\n",
       "    </tr>\n",
       "  </tbody>\n",
       "</table>\n",
       "</div>"
      ],
      "text/plain": [
       "           rating\n",
       "recipe_id        \n",
       "77397         546\n",
       "63689         570\n",
       "67256         625\n",
       "33919         629\n",
       "82102         655\n",
       "28148         666\n",
       "25885         677\n",
       "68955         681\n",
       "22782         738\n",
       "54257         758\n",
       "69173         787\n",
       "39087         894\n",
       "32204         897\n",
       "89204        1075\n",
       "27208        1091"
      ]
     },
     "execution_count": 47,
     "metadata": {},
     "output_type": "execute_result"
    }
   ],
   "source": [
    "#rating_count_per_recipe.sort_values(by='rating')  # it's actually 'count' but couldn't rename it\n",
    "rating_count_per_recipe.sort_values(by='rating').tail(15)"
   ]
  },
  {
   "cell_type": "markdown",
   "metadata": {},
   "source": [
    "Most recipes have very few reviews, but there's two with more than a thousand each!"
   ]
  },
  {
   "cell_type": "code",
   "execution_count": null,
   "metadata": {},
   "outputs": [],
   "source": []
  },
  {
   "cell_type": "code",
   "execution_count": null,
   "metadata": {},
   "outputs": [],
   "source": []
  },
  {
   "cell_type": "code",
   "execution_count": 2,
   "metadata": {},
   "outputs": [],
   "source": [
    "import pandas as pd"
   ]
  },
  {
   "cell_type": "code",
   "execution_count": 3,
   "metadata": {},
   "outputs": [],
   "source": [
    "raw_recipes = pd.read_csv('./datasets/food-com-recipes-and-user-interactions/RAW_recipes.csv')"
   ]
  },
  {
   "cell_type": "code",
   "execution_count": 28,
   "metadata": {},
   "outputs": [
    {
     "data": {
      "text/html": [
       "<div>\n",
       "<style scoped>\n",
       "    .dataframe tbody tr th:only-of-type {\n",
       "        vertical-align: middle;\n",
       "    }\n",
       "\n",
       "    .dataframe tbody tr th {\n",
       "        vertical-align: top;\n",
       "    }\n",
       "\n",
       "    .dataframe thead th {\n",
       "        text-align: right;\n",
       "    }\n",
       "</style>\n",
       "<table border=\"1\" class=\"dataframe\">\n",
       "  <thead>\n",
       "    <tr style=\"text-align: right;\">\n",
       "      <th></th>\n",
       "      <th>name</th>\n",
       "      <th>id</th>\n",
       "      <th>minutes</th>\n",
       "      <th>contributor_id</th>\n",
       "      <th>submitted</th>\n",
       "      <th>tags</th>\n",
       "      <th>nutrition</th>\n",
       "      <th>n_steps</th>\n",
       "      <th>steps</th>\n",
       "      <th>description</th>\n",
       "      <th>ingredients</th>\n",
       "      <th>n_ingredients</th>\n",
       "    </tr>\n",
       "  </thead>\n",
       "  <tbody>\n",
       "    <tr>\n",
       "      <th>1852</th>\n",
       "      <td>a berry lime martini</td>\n",
       "      <td>254489</td>\n",
       "      <td>5</td>\n",
       "      <td>431813</td>\n",
       "      <td>2007-09-21</td>\n",
       "      <td>['15-minutes-or-less', 'time-to-make', 'course...</td>\n",
       "      <td>[71.3, 0.0, 1.0, 0.0, 0.0, 0.0, 0.0]</td>\n",
       "      <td>2</td>\n",
       "      <td>['add all ingredients to a shaker with ice', '...</td>\n",
       "      <td>from padley wood.</td>\n",
       "      <td>['lime-flavored vodka', 'fresh lime juice', 'r...</td>\n",
       "      <td>5</td>\n",
       "    </tr>\n",
       "    <tr>\n",
       "      <th>124101</th>\n",
       "      <td>lime and elderflower martini</td>\n",
       "      <td>254488</td>\n",
       "      <td>5</td>\n",
       "      <td>431813</td>\n",
       "      <td>2007-09-21</td>\n",
       "      <td>['15-minutes-or-less', 'time-to-make', 'course...</td>\n",
       "      <td>[136.8, 0.0, 1.0, 0.0, 0.0, 0.0, 0.0]</td>\n",
       "      <td>2</td>\n",
       "      <td>['add all ingredients to a shaker with ice', '...</td>\n",
       "      <td>from padley wood.</td>\n",
       "      <td>['lime-flavored vodka', 'fresh lime juice', 'e...</td>\n",
       "      <td>4</td>\n",
       "    </tr>\n",
       "    <tr>\n",
       "      <th>156586</th>\n",
       "      <td>pear and lime martini</td>\n",
       "      <td>254487</td>\n",
       "      <td>5</td>\n",
       "      <td>431813</td>\n",
       "      <td>2007-09-21</td>\n",
       "      <td>['15-minutes-or-less', 'time-to-make', 'course...</td>\n",
       "      <td>[150.8, 0.0, 17.0, 0.0, 0.0, 0.0, 1.0]</td>\n",
       "      <td>2</td>\n",
       "      <td>['add all ingredients to a shaker with ice', '...</td>\n",
       "      <td>from padley wood.</td>\n",
       "      <td>['lime-flavored vodka', 'pear liqueur', 'lime ...</td>\n",
       "      <td>5</td>\n",
       "    </tr>\n",
       "    <tr>\n",
       "      <th>39118</th>\n",
       "      <td>cheeky chocolate smoothie</td>\n",
       "      <td>246787</td>\n",
       "      <td>7</td>\n",
       "      <td>427184</td>\n",
       "      <td>2007-08-15</td>\n",
       "      <td>['15-minutes-or-less', 'time-to-make', 'course...</td>\n",
       "      <td>[232.4, 12.0, 58.0, 3.0, 15.0, 20.0, 12.0]</td>\n",
       "      <td>1</td>\n",
       "      <td>['add all ingredients to blender and blend unt...</td>\n",
       "      <td>healthy low gl smoothie for those chocolate cr...</td>\n",
       "      <td>['water', 'milk', 'cocoa', 'banana', 'gingerro...</td>\n",
       "      <td>7</td>\n",
       "    </tr>\n",
       "    <tr>\n",
       "      <th>88520</th>\n",
       "      <td>frozen strawberry banana smoothie</td>\n",
       "      <td>269906</td>\n",
       "      <td>2</td>\n",
       "      <td>577823</td>\n",
       "      <td>2007-12-05</td>\n",
       "      <td>['15-minutes-or-less', 'time-to-make', 'course...</td>\n",
       "      <td>[211.1, 5.0, 85.0, 14.0, 14.0, 10.0, 13.0]</td>\n",
       "      <td>1</td>\n",
       "      <td>['add all ingredients to blender and blend unt...</td>\n",
       "      <td>a delicious smoothie that's almost like a shak...</td>\n",
       "      <td>['frozen strawberries', 'banana', 'splenda gra...</td>\n",
       "      <td>5</td>\n",
       "    </tr>\n",
       "    <tr>\n",
       "      <th>...</th>\n",
       "      <td>...</td>\n",
       "      <td>...</td>\n",
       "      <td>...</td>\n",
       "      <td>...</td>\n",
       "      <td>...</td>\n",
       "      <td>...</td>\n",
       "      <td>...</td>\n",
       "      <td>...</td>\n",
       "      <td>...</td>\n",
       "      <td>...</td>\n",
       "      <td>...</td>\n",
       "      <td>...</td>\n",
       "    </tr>\n",
       "    <tr>\n",
       "      <th>34638</th>\n",
       "      <td>canapes with garlicky tomato spread</td>\n",
       "      <td>19830</td>\n",
       "      <td>15</td>\n",
       "      <td>23302</td>\n",
       "      <td>2002-02-16</td>\n",
       "      <td>['15-minutes-or-less', 'time-to-make', 'course...</td>\n",
       "      <td>[110.8, 12.0, 3.0, 8.0, 5.0, 23.0, 2.0]</td>\n",
       "      <td>3</td>\n",
       "      <td>['use blender or food processor to puree all i...</td>\n",
       "      <td>delicious german hors d'oeuvres</td>\n",
       "      <td>['cream cheese', 'tomato paste', 'garlic', 'sa...</td>\n",
       "      <td>5</td>\n",
       "    </tr>\n",
       "    <tr>\n",
       "      <th>34639</th>\n",
       "      <td>canapes with green spread</td>\n",
       "      <td>19827</td>\n",
       "      <td>15</td>\n",
       "      <td>23302</td>\n",
       "      <td>2002-02-16</td>\n",
       "      <td>['15-minutes-or-less', 'time-to-make', 'course...</td>\n",
       "      <td>[73.1, 7.0, 2.0, 7.0, 2.0, 14.0, 2.0]</td>\n",
       "      <td>3</td>\n",
       "      <td>['use blender or food processor to puree all i...</td>\n",
       "      <td>delicious german hors d'oeuvres</td>\n",
       "      <td>['fresh parsley', 'butter', 'lemon juice', 'sa...</td>\n",
       "      <td>5</td>\n",
       "    </tr>\n",
       "    <tr>\n",
       "      <th>72584</th>\n",
       "      <td>do it yourself mild and creamy yellow curry paste</td>\n",
       "      <td>467555</td>\n",
       "      <td>10</td>\n",
       "      <td>65502</td>\n",
       "      <td>2011-11-06</td>\n",
       "      <td>['15-minutes-or-less', 'time-to-make', 'course...</td>\n",
       "      <td>[190.4, 3.0, 91.0, 79.0, 8.0, 1.0, 14.0]</td>\n",
       "      <td>5</td>\n",
       "      <td>['whirl all ingredients in a food processor or...</td>\n",
       "      <td>ta-ta to the bottled paste! whipping up this p...</td>\n",
       "      <td>['fresh ginger', 'red onion', 'chili-garlic sa...</td>\n",
       "      <td>10</td>\n",
       "    </tr>\n",
       "    <tr>\n",
       "      <th>72586</th>\n",
       "      <td>do it yourself red curry paste</td>\n",
       "      <td>467552</td>\n",
       "      <td>10</td>\n",
       "      <td>65502</td>\n",
       "      <td>2011-11-06</td>\n",
       "      <td>['15-minutes-or-less', 'time-to-make', 'course...</td>\n",
       "      <td>[180.7, 3.0, 89.0, 79.0, 8.0, 1.0, 13.0]</td>\n",
       "      <td>5</td>\n",
       "      <td>['whirl all ingredients in a food processor or...</td>\n",
       "      <td>ta-ta to the bottled paste! whipping up this p...</td>\n",
       "      <td>['fresh ginger', 'red onion', 'chili-garlic sa...</td>\n",
       "      <td>9</td>\n",
       "    </tr>\n",
       "    <tr>\n",
       "      <th>72587</th>\n",
       "      <td>do it yourself spicy green curry paste</td>\n",
       "      <td>467553</td>\n",
       "      <td>10</td>\n",
       "      <td>65502</td>\n",
       "      <td>2011-11-06</td>\n",
       "      <td>['15-minutes-or-less', 'time-to-make', 'course...</td>\n",
       "      <td>[169.3, 3.0, 84.0, 79.0, 8.0, 1.0, 12.0]</td>\n",
       "      <td>5</td>\n",
       "      <td>['whirl all ingredients in a food processor or...</td>\n",
       "      <td>ta-ta to the bottled paste! whipping up this p...</td>\n",
       "      <td>['fresh ginger', 'jalapeno', 'fresh basil leaf...</td>\n",
       "      <td>11</td>\n",
       "    </tr>\n",
       "  </tbody>\n",
       "</table>\n",
       "<p>325 rows × 12 columns</p>\n",
       "</div>"
      ],
      "text/plain": [
       "                                                     name      id  minutes  \\\n",
       "1852                                 a berry lime martini  254489        5   \n",
       "124101                       lime and elderflower martini  254488        5   \n",
       "156586                              pear and lime martini  254487        5   \n",
       "39118                           cheeky chocolate smoothie  246787        7   \n",
       "88520                   frozen strawberry banana smoothie  269906        2   \n",
       "...                                                   ...     ...      ...   \n",
       "34638                 canapes with garlicky tomato spread   19830       15   \n",
       "34639                           canapes with green spread   19827       15   \n",
       "72584   do it yourself mild and creamy yellow curry paste  467555       10   \n",
       "72586                      do it yourself red curry paste  467552       10   \n",
       "72587              do it yourself spicy green curry paste  467553       10   \n",
       "\n",
       "        contributor_id   submitted  \\\n",
       "1852            431813  2007-09-21   \n",
       "124101          431813  2007-09-21   \n",
       "156586          431813  2007-09-21   \n",
       "39118           427184  2007-08-15   \n",
       "88520           577823  2007-12-05   \n",
       "...                ...         ...   \n",
       "34638            23302  2002-02-16   \n",
       "34639            23302  2002-02-16   \n",
       "72584            65502  2011-11-06   \n",
       "72586            65502  2011-11-06   \n",
       "72587            65502  2011-11-06   \n",
       "\n",
       "                                                     tags  \\\n",
       "1852    ['15-minutes-or-less', 'time-to-make', 'course...   \n",
       "124101  ['15-minutes-or-less', 'time-to-make', 'course...   \n",
       "156586  ['15-minutes-or-less', 'time-to-make', 'course...   \n",
       "39118   ['15-minutes-or-less', 'time-to-make', 'course...   \n",
       "88520   ['15-minutes-or-less', 'time-to-make', 'course...   \n",
       "...                                                   ...   \n",
       "34638   ['15-minutes-or-less', 'time-to-make', 'course...   \n",
       "34639   ['15-minutes-or-less', 'time-to-make', 'course...   \n",
       "72584   ['15-minutes-or-less', 'time-to-make', 'course...   \n",
       "72586   ['15-minutes-or-less', 'time-to-make', 'course...   \n",
       "72587   ['15-minutes-or-less', 'time-to-make', 'course...   \n",
       "\n",
       "                                         nutrition  n_steps  \\\n",
       "1852          [71.3, 0.0, 1.0, 0.0, 0.0, 0.0, 0.0]        2   \n",
       "124101       [136.8, 0.0, 1.0, 0.0, 0.0, 0.0, 0.0]        2   \n",
       "156586      [150.8, 0.0, 17.0, 0.0, 0.0, 0.0, 1.0]        2   \n",
       "39118   [232.4, 12.0, 58.0, 3.0, 15.0, 20.0, 12.0]        1   \n",
       "88520   [211.1, 5.0, 85.0, 14.0, 14.0, 10.0, 13.0]        1   \n",
       "...                                            ...      ...   \n",
       "34638      [110.8, 12.0, 3.0, 8.0, 5.0, 23.0, 2.0]        3   \n",
       "34639        [73.1, 7.0, 2.0, 7.0, 2.0, 14.0, 2.0]        3   \n",
       "72584     [190.4, 3.0, 91.0, 79.0, 8.0, 1.0, 14.0]        5   \n",
       "72586     [180.7, 3.0, 89.0, 79.0, 8.0, 1.0, 13.0]        5   \n",
       "72587     [169.3, 3.0, 84.0, 79.0, 8.0, 1.0, 12.0]        5   \n",
       "\n",
       "                                                    steps  \\\n",
       "1852    ['add all ingredients to a shaker with ice', '...   \n",
       "124101  ['add all ingredients to a shaker with ice', '...   \n",
       "156586  ['add all ingredients to a shaker with ice', '...   \n",
       "39118   ['add all ingredients to blender and blend unt...   \n",
       "88520   ['add all ingredients to blender and blend unt...   \n",
       "...                                                   ...   \n",
       "34638   ['use blender or food processor to puree all i...   \n",
       "34639   ['use blender or food processor to puree all i...   \n",
       "72584   ['whirl all ingredients in a food processor or...   \n",
       "72586   ['whirl all ingredients in a food processor or...   \n",
       "72587   ['whirl all ingredients in a food processor or...   \n",
       "\n",
       "                                              description  \\\n",
       "1852                                    from padley wood.   \n",
       "124101                                  from padley wood.   \n",
       "156586                                  from padley wood.   \n",
       "39118   healthy low gl smoothie for those chocolate cr...   \n",
       "88520   a delicious smoothie that's almost like a shak...   \n",
       "...                                                   ...   \n",
       "34638                     delicious german hors d'oeuvres   \n",
       "34639                     delicious german hors d'oeuvres   \n",
       "72584   ta-ta to the bottled paste! whipping up this p...   \n",
       "72586   ta-ta to the bottled paste! whipping up this p...   \n",
       "72587   ta-ta to the bottled paste! whipping up this p...   \n",
       "\n",
       "                                              ingredients  n_ingredients  \n",
       "1852    ['lime-flavored vodka', 'fresh lime juice', 'r...              5  \n",
       "124101  ['lime-flavored vodka', 'fresh lime juice', 'e...              4  \n",
       "156586  ['lime-flavored vodka', 'pear liqueur', 'lime ...              5  \n",
       "39118   ['water', 'milk', 'cocoa', 'banana', 'gingerro...              7  \n",
       "88520   ['frozen strawberries', 'banana', 'splenda gra...              5  \n",
       "...                                                   ...            ...  \n",
       "34638   ['cream cheese', 'tomato paste', 'garlic', 'sa...              5  \n",
       "34639   ['fresh parsley', 'butter', 'lemon juice', 'sa...              5  \n",
       "72584   ['fresh ginger', 'red onion', 'chili-garlic sa...             10  \n",
       "72586   ['fresh ginger', 'red onion', 'chili-garlic sa...              9  \n",
       "72587   ['fresh ginger', 'jalapeno', 'fresh basil leaf...             11  \n",
       "\n",
       "[325 rows x 12 columns]"
      ]
     },
     "execution_count": 28,
     "metadata": {},
     "output_type": "execute_result"
    }
   ],
   "source": [
    "pd.concat(g for _, g in raw_recipes.groupby('steps') if len(g) > 1)"
   ]
  },
  {
   "cell_type": "code",
   "execution_count": 32,
   "metadata": {},
   "outputs": [],
   "source": [
    "pp_recipes = pd.read_csv('./datasets/food-com-recipes-and-user-interactions/PP_recipes.csv')"
   ]
  },
  {
   "cell_type": "code",
   "execution_count": 33,
   "metadata": {},
   "outputs": [
    {
     "data": {
      "text/html": [
       "<div>\n",
       "<style scoped>\n",
       "    .dataframe tbody tr th:only-of-type {\n",
       "        vertical-align: middle;\n",
       "    }\n",
       "\n",
       "    .dataframe tbody tr th {\n",
       "        vertical-align: top;\n",
       "    }\n",
       "\n",
       "    .dataframe thead th {\n",
       "        text-align: right;\n",
       "    }\n",
       "</style>\n",
       "<table border=\"1\" class=\"dataframe\">\n",
       "  <thead>\n",
       "    <tr style=\"text-align: right;\">\n",
       "      <th></th>\n",
       "      <th>id</th>\n",
       "      <th>i</th>\n",
       "      <th>name_tokens</th>\n",
       "      <th>ingredient_tokens</th>\n",
       "      <th>steps_tokens</th>\n",
       "      <th>techniques</th>\n",
       "      <th>calorie_level</th>\n",
       "      <th>ingredient_ids</th>\n",
       "    </tr>\n",
       "  </thead>\n",
       "  <tbody>\n",
       "    <tr>\n",
       "      <th>0</th>\n",
       "      <td>424415</td>\n",
       "      <td>23</td>\n",
       "      <td>[40480, 37229, 2911, 1019, 249, 6878, 6878, 28...</td>\n",
       "      <td>[[2911, 1019, 249, 6878], [1353], [6953], [153...</td>\n",
       "      <td>[40480, 40482, 21662, 481, 6878, 500, 246, 161...</td>\n",
       "      <td>[0, 0, 0, 0, 0, 0, 0, 0, 0, 1, 0, 0, 0, 0, 0, ...</td>\n",
       "      <td>0</td>\n",
       "      <td>[389, 7655, 6270, 1527, 3406]</td>\n",
       "    </tr>\n",
       "    <tr>\n",
       "      <th>1</th>\n",
       "      <td>146223</td>\n",
       "      <td>96900</td>\n",
       "      <td>[40480, 18376, 7056, 246, 1531, 2032, 40481]</td>\n",
       "      <td>[[17918], [25916], [2507, 6444], [8467, 1179],...</td>\n",
       "      <td>[40480, 40482, 729, 2525, 10906, 485, 43, 8393...</td>\n",
       "      <td>[1, 0, 0, 0, 0, 0, 0, 0, 0, 1, 0, 0, 0, 0, 0, ...</td>\n",
       "      <td>0</td>\n",
       "      <td>[2683, 4969, 800, 5298, 840, 2499, 6632, 7022,...</td>\n",
       "    </tr>\n",
       "    <tr>\n",
       "      <th>2</th>\n",
       "      <td>312329</td>\n",
       "      <td>120056</td>\n",
       "      <td>[40480, 21044, 16954, 8294, 556, 10837, 40481]</td>\n",
       "      <td>[[5867, 24176], [1353], [6953], [1301, 11332],...</td>\n",
       "      <td>[40480, 40482, 8240, 481, 24176, 296, 1353, 66...</td>\n",
       "      <td>[0, 0, 0, 0, 1, 0, 0, 0, 0, 0, 0, 1, 0, 0, 0, ...</td>\n",
       "      <td>1</td>\n",
       "      <td>[1257, 7655, 6270, 590, 5024, 1119, 4883, 6696...</td>\n",
       "    </tr>\n",
       "    <tr>\n",
       "      <th>3</th>\n",
       "      <td>74301</td>\n",
       "      <td>168258</td>\n",
       "      <td>[40480, 10025, 31156, 40481]</td>\n",
       "      <td>[[1270, 1645, 28447], [21601], [27952, 29471, ...</td>\n",
       "      <td>[40480, 40482, 5539, 21601, 1073, 903, 2324, 4...</td>\n",
       "      <td>[1, 0, 0, 0, 0, 0, 0, 0, 0, 0, 0, 0, 0, 0, 0, ...</td>\n",
       "      <td>0</td>\n",
       "      <td>[7940, 3609, 7060, 6265, 1170, 6654, 5003, 3561]</td>\n",
       "    </tr>\n",
       "    <tr>\n",
       "      <th>4</th>\n",
       "      <td>76272</td>\n",
       "      <td>109030</td>\n",
       "      <td>[40480, 17841, 252, 782, 2373, 1641, 2373, 252...</td>\n",
       "      <td>[[1430, 11434], [1430, 17027], [1615, 23, 695,...</td>\n",
       "      <td>[40480, 40482, 14046, 1430, 11434, 488, 17027,...</td>\n",
       "      <td>[0, 0, 0, 0, 0, 0, 0, 0, 0, 1, 0, 0, 0, 0, 0, ...</td>\n",
       "      <td>0</td>\n",
       "      <td>[3484, 6324, 7594, 243]</td>\n",
       "    </tr>\n",
       "    <tr>\n",
       "      <th>...</th>\n",
       "      <td>...</td>\n",
       "      <td>...</td>\n",
       "      <td>...</td>\n",
       "      <td>...</td>\n",
       "      <td>...</td>\n",
       "      <td>...</td>\n",
       "      <td>...</td>\n",
       "      <td>...</td>\n",
       "    </tr>\n",
       "    <tr>\n",
       "      <th>178260</th>\n",
       "      <td>323143</td>\n",
       "      <td>76862</td>\n",
       "      <td>[40480, 6444, 1964, 9369, 486, 569, 17551, 40481]</td>\n",
       "      <td>[[8780], [11835, 1762, 4465, 31494], [6812], [...</td>\n",
       "      <td>[40480, 40482, 729, 2525, 715, 485, 26641, 404...</td>\n",
       "      <td>[1, 0, 0, 0, 0, 0, 0, 0, 0, 0, 0, 0, 0, 0, 0, ...</td>\n",
       "      <td>1</td>\n",
       "      <td>[840, 208, 2499, 2683, 1925, 335, 1511]</td>\n",
       "    </tr>\n",
       "    <tr>\n",
       "      <th>178261</th>\n",
       "      <td>149114</td>\n",
       "      <td>145962</td>\n",
       "      <td>[40480, 17027, 24715, 974, 11877, 40481]</td>\n",
       "      <td>[[6812], [5940], [30645, 4785, 6821], [6953], ...</td>\n",
       "      <td>[40480, 40482, 729, 2525, 10906, 485, 43, 8393...</td>\n",
       "      <td>[1, 0, 0, 0, 0, 0, 0, 0, 0, 0, 0, 0, 0, 0, 0, ...</td>\n",
       "      <td>0</td>\n",
       "      <td>[2499, 4717, 1168, 6270, 6324, 7040]</td>\n",
       "    </tr>\n",
       "    <tr>\n",
       "      <th>178262</th>\n",
       "      <td>34200</td>\n",
       "      <td>65066</td>\n",
       "      <td>[40480, 12187, 11434, 1738, 2627, 40481]</td>\n",
       "      <td>[[6167, 20930, 510], [1353], [15022, 6953], [6...</td>\n",
       "      <td>[40480, 40482, 500, 246, 1719, 5024, 240, 2366...</td>\n",
       "      <td>[1, 0, 0, 0, 0, 0, 0, 0, 0, 1, 0, 0, 0, 0, 0, ...</td>\n",
       "      <td>2</td>\n",
       "      <td>[2378, 7655, 3219, 2320, 5168, 5319, 4189, 268...</td>\n",
       "    </tr>\n",
       "    <tr>\n",
       "      <th>178263</th>\n",
       "      <td>30618</td>\n",
       "      <td>77358</td>\n",
       "      <td>[40480, 870, 488, 1325, 519, 2220, 2417, 488, ...</td>\n",
       "      <td>[[12395, 38308, 40118], [3137, 15022], [30878,...</td>\n",
       "      <td>[40480, 40482, 562, 481, 10734, 240, 23667, 58...</td>\n",
       "      <td>[0, 0, 0, 0, 1, 0, 0, 0, 0, 1, 0, 0, 0, 0, 0, ...</td>\n",
       "      <td>0</td>\n",
       "      <td>[5627, 2807, 5412, 3399, 7979, 1093, 1257, 780...</td>\n",
       "    </tr>\n",
       "    <tr>\n",
       "      <th>178264</th>\n",
       "      <td>263840</td>\n",
       "      <td>137160</td>\n",
       "      <td>[40480, 30565, 12316, 1024, 40481]</td>\n",
       "      <td>[[3151, 12486], [2507, 6444], [30565], [17918]...</td>\n",
       "      <td>[40480, 40482, 729, 2525, 10906, 485, 43, 2232...</td>\n",
       "      <td>[1, 0, 0, 1, 0, 0, 0, 0, 0, 0, 0, 0, 0, 0, 0, ...</td>\n",
       "      <td>0</td>\n",
       "      <td>[6473, 800, 4807, 2683, 335, 1563, 1511, 3248,...</td>\n",
       "    </tr>\n",
       "  </tbody>\n",
       "</table>\n",
       "<p>178265 rows × 8 columns</p>\n",
       "</div>"
      ],
      "text/plain": [
       "            id       i                                        name_tokens  \\\n",
       "0       424415      23  [40480, 37229, 2911, 1019, 249, 6878, 6878, 28...   \n",
       "1       146223   96900       [40480, 18376, 7056, 246, 1531, 2032, 40481]   \n",
       "2       312329  120056     [40480, 21044, 16954, 8294, 556, 10837, 40481]   \n",
       "3        74301  168258                       [40480, 10025, 31156, 40481]   \n",
       "4        76272  109030  [40480, 17841, 252, 782, 2373, 1641, 2373, 252...   \n",
       "...        ...     ...                                                ...   \n",
       "178260  323143   76862  [40480, 6444, 1964, 9369, 486, 569, 17551, 40481]   \n",
       "178261  149114  145962           [40480, 17027, 24715, 974, 11877, 40481]   \n",
       "178262   34200   65066           [40480, 12187, 11434, 1738, 2627, 40481]   \n",
       "178263   30618   77358  [40480, 870, 488, 1325, 519, 2220, 2417, 488, ...   \n",
       "178264  263840  137160                 [40480, 30565, 12316, 1024, 40481]   \n",
       "\n",
       "                                        ingredient_tokens  \\\n",
       "0       [[2911, 1019, 249, 6878], [1353], [6953], [153...   \n",
       "1       [[17918], [25916], [2507, 6444], [8467, 1179],...   \n",
       "2       [[5867, 24176], [1353], [6953], [1301, 11332],...   \n",
       "3       [[1270, 1645, 28447], [21601], [27952, 29471, ...   \n",
       "4       [[1430, 11434], [1430, 17027], [1615, 23, 695,...   \n",
       "...                                                   ...   \n",
       "178260  [[8780], [11835, 1762, 4465, 31494], [6812], [...   \n",
       "178261  [[6812], [5940], [30645, 4785, 6821], [6953], ...   \n",
       "178262  [[6167, 20930, 510], [1353], [15022, 6953], [6...   \n",
       "178263  [[12395, 38308, 40118], [3137, 15022], [30878,...   \n",
       "178264  [[3151, 12486], [2507, 6444], [30565], [17918]...   \n",
       "\n",
       "                                             steps_tokens  \\\n",
       "0       [40480, 40482, 21662, 481, 6878, 500, 246, 161...   \n",
       "1       [40480, 40482, 729, 2525, 10906, 485, 43, 8393...   \n",
       "2       [40480, 40482, 8240, 481, 24176, 296, 1353, 66...   \n",
       "3       [40480, 40482, 5539, 21601, 1073, 903, 2324, 4...   \n",
       "4       [40480, 40482, 14046, 1430, 11434, 488, 17027,...   \n",
       "...                                                   ...   \n",
       "178260  [40480, 40482, 729, 2525, 715, 485, 26641, 404...   \n",
       "178261  [40480, 40482, 729, 2525, 10906, 485, 43, 8393...   \n",
       "178262  [40480, 40482, 500, 246, 1719, 5024, 240, 2366...   \n",
       "178263  [40480, 40482, 562, 481, 10734, 240, 23667, 58...   \n",
       "178264  [40480, 40482, 729, 2525, 10906, 485, 43, 2232...   \n",
       "\n",
       "                                               techniques  calorie_level  \\\n",
       "0       [0, 0, 0, 0, 0, 0, 0, 0, 0, 1, 0, 0, 0, 0, 0, ...              0   \n",
       "1       [1, 0, 0, 0, 0, 0, 0, 0, 0, 1, 0, 0, 0, 0, 0, ...              0   \n",
       "2       [0, 0, 0, 0, 1, 0, 0, 0, 0, 0, 0, 1, 0, 0, 0, ...              1   \n",
       "3       [1, 0, 0, 0, 0, 0, 0, 0, 0, 0, 0, 0, 0, 0, 0, ...              0   \n",
       "4       [0, 0, 0, 0, 0, 0, 0, 0, 0, 1, 0, 0, 0, 0, 0, ...              0   \n",
       "...                                                   ...            ...   \n",
       "178260  [1, 0, 0, 0, 0, 0, 0, 0, 0, 0, 0, 0, 0, 0, 0, ...              1   \n",
       "178261  [1, 0, 0, 0, 0, 0, 0, 0, 0, 0, 0, 0, 0, 0, 0, ...              0   \n",
       "178262  [1, 0, 0, 0, 0, 0, 0, 0, 0, 1, 0, 0, 0, 0, 0, ...              2   \n",
       "178263  [0, 0, 0, 0, 1, 0, 0, 0, 0, 1, 0, 0, 0, 0, 0, ...              0   \n",
       "178264  [1, 0, 0, 1, 0, 0, 0, 0, 0, 0, 0, 0, 0, 0, 0, ...              0   \n",
       "\n",
       "                                           ingredient_ids  \n",
       "0                           [389, 7655, 6270, 1527, 3406]  \n",
       "1       [2683, 4969, 800, 5298, 840, 2499, 6632, 7022,...  \n",
       "2       [1257, 7655, 6270, 590, 5024, 1119, 4883, 6696...  \n",
       "3        [7940, 3609, 7060, 6265, 1170, 6654, 5003, 3561]  \n",
       "4                                 [3484, 6324, 7594, 243]  \n",
       "...                                                   ...  \n",
       "178260            [840, 208, 2499, 2683, 1925, 335, 1511]  \n",
       "178261               [2499, 4717, 1168, 6270, 6324, 7040]  \n",
       "178262  [2378, 7655, 3219, 2320, 5168, 5319, 4189, 268...  \n",
       "178263  [5627, 2807, 5412, 3399, 7979, 1093, 1257, 780...  \n",
       "178264  [6473, 800, 4807, 2683, 335, 1563, 1511, 3248,...  \n",
       "\n",
       "[178265 rows x 8 columns]"
      ]
     },
     "execution_count": 33,
     "metadata": {},
     "output_type": "execute_result"
    }
   ],
   "source": [
    "pp_recipes"
   ]
  },
  {
   "cell_type": "code",
   "execution_count": 35,
   "metadata": {},
   "outputs": [
    {
     "data": {
      "text/plain": [
       "566"
      ]
     },
     "execution_count": 35,
     "metadata": {},
     "output_type": "execute_result"
    }
   ],
   "source": [
    "sum(pp_recipes['ingredient_tokens'].duplicated())"
   ]
  },
  {
   "cell_type": "code",
   "execution_count": 38,
   "metadata": {},
   "outputs": [],
   "source": [
    "a = pp_recipes.groupby('ingredient_tokens')"
   ]
  },
  {
   "cell_type": "code",
   "execution_count": 41,
   "metadata": {},
   "outputs": [],
   "source": [
    "b = [len(g) for _, g in a]"
   ]
  },
  {
   "cell_type": "code",
   "execution_count": 50,
   "metadata": {},
   "outputs": [
    {
     "data": {
      "text/plain": [
       "(array([1.77173e+05, 4.94000e+02, 2.60000e+01, 6.00000e+00]),\n",
       " array([1, 2, 3, 4, 5]),\n",
       " <a list of 4 Patch objects>)"
      ]
     },
     "execution_count": 50,
     "metadata": {},
     "output_type": "execute_result"
    },
    {
     "data": {
      "image/png": "[encoded data removed]",
      "text/plain": [
       "<Figure size 432x288 with 1 Axes>"
      ]
     },
     "metadata": {},
     "output_type": "display_data"
    }
   ],
   "source": [
    "c = plt.hist(b, bins=[1, 2, 3, 4, 5])\n",
    "plt.ylim(None, 2000)\n",
    "c"
   ]
  },
  {
   "cell_type": "code",
   "execution_count": 45,
   "metadata": {},
   "outputs": [
    {
     "data": {
      "text/plain": [
       "5"
      ]
     },
     "execution_count": 45,
     "metadata": {},
     "output_type": "execute_result"
    }
   ],
   "source": [
    "max(b)"
   ]
  },
  {
   "cell_type": "code",
   "execution_count": 53,
   "metadata": {},
   "outputs": [
    {
     "data": {
      "text/html": [
       "<div>\n",
       "<style scoped>\n",
       "    .dataframe tbody tr th:only-of-type {\n",
       "        vertical-align: middle;\n",
       "    }\n",
       "\n",
       "    .dataframe tbody tr th {\n",
       "        vertical-align: top;\n",
       "    }\n",
       "\n",
       "    .dataframe thead th {\n",
       "        text-align: right;\n",
       "    }\n",
       "</style>\n",
       "<table border=\"1\" class=\"dataframe\">\n",
       "  <thead>\n",
       "    <tr style=\"text-align: right;\">\n",
       "      <th></th>\n",
       "      <th>id</th>\n",
       "      <th>i</th>\n",
       "      <th>name_tokens</th>\n",
       "      <th>ingredient_tokens</th>\n",
       "      <th>steps_tokens</th>\n",
       "      <th>techniques</th>\n",
       "      <th>calorie_level</th>\n",
       "      <th>ingredient_ids</th>\n",
       "    </tr>\n",
       "  </thead>\n",
       "  <tbody>\n",
       "    <tr>\n",
       "      <th>12656</th>\n",
       "      <td>238085</td>\n",
       "      <td>8914</td>\n",
       "      <td>[40480, 1092, 488, 19034, 17002, 40481]</td>\n",
       "      <td>[[17918], [15473, 8361], [6953], [3151, 12486]...</td>\n",
       "      <td>[40480, 40482, 2525, 10906, 485, 44, 22328, 93...</td>\n",
       "      <td>[1, 0, 0, 1, 0, 0, 0, 0, 0, 0, 0, 0, 0, 0, 0, ...</td>\n",
       "      <td>1</td>\n",
       "      <td>[2683, 332, 6270, 6473, 4717]</td>\n",
       "    </tr>\n",
       "    <tr>\n",
       "      <th>34116</th>\n",
       "      <td>2121</td>\n",
       "      <td>111512</td>\n",
       "      <td>[40480, 7927, 3635, 17002, 40481]</td>\n",
       "      <td>[[17918], [15473, 8361], [6953], [3151, 12486]...</td>\n",
       "      <td>[40480, 40482, 729, 2525, 10906, 485, 44, 8393...</td>\n",
       "      <td>[1, 0, 0, 1, 0, 0, 0, 0, 0, 1, 0, 0, 0, 0, 0, ...</td>\n",
       "      <td>0</td>\n",
       "      <td>[2683, 332, 6270, 6473, 4717]</td>\n",
       "    </tr>\n",
       "    <tr>\n",
       "      <th>104153</th>\n",
       "      <td>111790</td>\n",
       "      <td>130864</td>\n",
       "      <td>[40480, 868, 7209, 14349, 29139, 40481]</td>\n",
       "      <td>[[17918], [15473, 8361], [6953], [3151, 12486]...</td>\n",
       "      <td>[40480, 40482, 23667, 589, 2832, 33571, 1281, ...</td>\n",
       "      <td>[0, 0, 0, 0, 0, 0, 0, 0, 0, 1, 0, 0, 0, 0, 0, ...</td>\n",
       "      <td>1</td>\n",
       "      <td>[2683, 332, 6270, 6473, 4717]</td>\n",
       "    </tr>\n",
       "    <tr>\n",
       "      <th>127955</th>\n",
       "      <td>242957</td>\n",
       "      <td>105119</td>\n",
       "      <td>[40480, 1631, 252, 17002, 40481]</td>\n",
       "      <td>[[17918], [15473, 8361], [6953], [3151, 12486]...</td>\n",
       "      <td>[40480, 40482, 23667, 2832, 16126, 40478, 4048...</td>\n",
       "      <td>[1, 0, 0, 0, 0, 0, 0, 0, 0, 1, 0, 0, 0, 0, 0, ...</td>\n",
       "      <td>1</td>\n",
       "      <td>[2683, 332, 6270, 6473, 4717]</td>\n",
       "    </tr>\n",
       "    <tr>\n",
       "      <th>166070</th>\n",
       "      <td>362018</td>\n",
       "      <td>52214</td>\n",
       "      <td>[40480, 2279, 2044, 37453, 17002, 40481]</td>\n",
       "      <td>[[17918], [15473, 8361], [6953], [3151, 12486]...</td>\n",
       "      <td>[40480, 40482, 729, 2525, 481, 10906, 485, 44,...</td>\n",
       "      <td>[0, 0, 0, 0, 0, 0, 0, 0, 0, 0, 0, 0, 0, 0, 0, ...</td>\n",
       "      <td>1</td>\n",
       "      <td>[2683, 332, 6270, 6473, 4717]</td>\n",
       "    </tr>\n",
       "    <tr>\n",
       "      <th>36678</th>\n",
       "      <td>61729</td>\n",
       "      <td>112968</td>\n",
       "      <td>[40480, 17746, 519, 3719, 596, 22422, 834, 460...</td>\n",
       "      <td>[[30295], [519, 1016], [22422], [1353], [6444]]</td>\n",
       "      <td>[40480, 40482, 8654, 30295, 240, 519, 1016, 29...</td>\n",
       "      <td>[0, 0, 0, 0, 0, 0, 0, 0, 0, 0, 0, 0, 0, 0, 0, ...</td>\n",
       "      <td>2</td>\n",
       "      <td>[4231, 4379, 5038, 7655, 6906]</td>\n",
       "    </tr>\n",
       "    <tr>\n",
       "      <th>47645</th>\n",
       "      <td>155159</td>\n",
       "      <td>115226</td>\n",
       "      <td>[40480, 17746, 556, 246, 7060, 40481]</td>\n",
       "      <td>[[30295], [519, 1016], [22422], [1353], [6444]]</td>\n",
       "      <td>[40480, 40482, 5654, 481, 7524, 617, 30295, 24...</td>\n",
       "      <td>[0, 0, 0, 0, 0, 0, 0, 0, 0, 0, 0, 0, 0, 0, 0, ...</td>\n",
       "      <td>0</td>\n",
       "      <td>[4231, 4379, 5038, 7655, 6906]</td>\n",
       "    </tr>\n",
       "    <tr>\n",
       "      <th>120806</th>\n",
       "      <td>370846</td>\n",
       "      <td>30095</td>\n",
       "      <td>[40480, 10692, 628, 31248, 32887, 4481, 40481]</td>\n",
       "      <td>[[30295], [519, 1016], [22422], [1353], [6444]]</td>\n",
       "      <td>[40480, 40482, 5654, 481, 7524, 617, 1183, 664...</td>\n",
       "      <td>[0, 0, 0, 0, 0, 0, 0, 0, 0, 0, 0, 0, 0, 0, 0, ...</td>\n",
       "      <td>0</td>\n",
       "      <td>[4231, 4379, 5038, 7655, 6906]</td>\n",
       "    </tr>\n",
       "    <tr>\n",
       "      <th>142833</th>\n",
       "      <td>92876</td>\n",
       "      <td>52661</td>\n",
       "      <td>[40480, 7250, 17746, 40481]</td>\n",
       "      <td>[[30295], [519, 1016], [22422], [1353], [6444]]</td>\n",
       "      <td>[40480, 40482, 5654, 481, 7524, 617, 282, 498,...</td>\n",
       "      <td>[0, 0, 0, 0, 0, 0, 0, 0, 0, 0, 0, 0, 0, 0, 0, ...</td>\n",
       "      <td>0</td>\n",
       "      <td>[4231, 4379, 5038, 7655, 6906]</td>\n",
       "    </tr>\n",
       "    <tr>\n",
       "      <th>168942</th>\n",
       "      <td>182345</td>\n",
       "      <td>124358</td>\n",
       "      <td>[40480, 3470, 16642, 17746, 40481]</td>\n",
       "      <td>[[30295], [519, 1016], [22422], [1353], [6444]]</td>\n",
       "      <td>[40480, 40482, 5654, 481, 7524, 617, 282, 1183...</td>\n",
       "      <td>[0, 0, 0, 0, 0, 0, 0, 0, 0, 0, 0, 0, 0, 0, 0, ...</td>\n",
       "      <td>2</td>\n",
       "      <td>[4231, 4379, 5038, 7655, 6906]</td>\n",
       "    </tr>\n",
       "  </tbody>\n",
       "</table>\n",
       "</div>"
      ],
      "text/plain": [
       "            id       i                                        name_tokens  \\\n",
       "12656   238085    8914            [40480, 1092, 488, 19034, 17002, 40481]   \n",
       "34116     2121  111512                  [40480, 7927, 3635, 17002, 40481]   \n",
       "104153  111790  130864            [40480, 868, 7209, 14349, 29139, 40481]   \n",
       "127955  242957  105119                   [40480, 1631, 252, 17002, 40481]   \n",
       "166070  362018   52214           [40480, 2279, 2044, 37453, 17002, 40481]   \n",
       "36678    61729  112968  [40480, 17746, 519, 3719, 596, 22422, 834, 460...   \n",
       "47645   155159  115226              [40480, 17746, 556, 246, 7060, 40481]   \n",
       "120806  370846   30095     [40480, 10692, 628, 31248, 32887, 4481, 40481]   \n",
       "142833   92876   52661                        [40480, 7250, 17746, 40481]   \n",
       "168942  182345  124358                 [40480, 3470, 16642, 17746, 40481]   \n",
       "\n",
       "                                        ingredient_tokens  \\\n",
       "12656   [[17918], [15473, 8361], [6953], [3151, 12486]...   \n",
       "34116   [[17918], [15473, 8361], [6953], [3151, 12486]...   \n",
       "104153  [[17918], [15473, 8361], [6953], [3151, 12486]...   \n",
       "127955  [[17918], [15473, 8361], [6953], [3151, 12486]...   \n",
       "166070  [[17918], [15473, 8361], [6953], [3151, 12486]...   \n",
       "36678     [[30295], [519, 1016], [22422], [1353], [6444]]   \n",
       "47645     [[30295], [519, 1016], [22422], [1353], [6444]]   \n",
       "120806    [[30295], [519, 1016], [22422], [1353], [6444]]   \n",
       "142833    [[30295], [519, 1016], [22422], [1353], [6444]]   \n",
       "168942    [[30295], [519, 1016], [22422], [1353], [6444]]   \n",
       "\n",
       "                                             steps_tokens  \\\n",
       "12656   [40480, 40482, 2525, 10906, 485, 44, 22328, 93...   \n",
       "34116   [40480, 40482, 729, 2525, 10906, 485, 44, 8393...   \n",
       "104153  [40480, 40482, 23667, 589, 2832, 33571, 1281, ...   \n",
       "127955  [40480, 40482, 23667, 2832, 16126, 40478, 4048...   \n",
       "166070  [40480, 40482, 729, 2525, 481, 10906, 485, 44,...   \n",
       "36678   [40480, 40482, 8654, 30295, 240, 519, 1016, 29...   \n",
       "47645   [40480, 40482, 5654, 481, 7524, 617, 30295, 24...   \n",
       "120806  [40480, 40482, 5654, 481, 7524, 617, 1183, 664...   \n",
       "142833  [40480, 40482, 5654, 481, 7524, 617, 282, 498,...   \n",
       "168942  [40480, 40482, 5654, 481, 7524, 617, 282, 1183...   \n",
       "\n",
       "                                               techniques  calorie_level  \\\n",
       "12656   [1, 0, 0, 1, 0, 0, 0, 0, 0, 0, 0, 0, 0, 0, 0, ...              1   \n",
       "34116   [1, 0, 0, 1, 0, 0, 0, 0, 0, 1, 0, 0, 0, 0, 0, ...              0   \n",
       "104153  [0, 0, 0, 0, 0, 0, 0, 0, 0, 1, 0, 0, 0, 0, 0, ...              1   \n",
       "127955  [1, 0, 0, 0, 0, 0, 0, 0, 0, 1, 0, 0, 0, 0, 0, ...              1   \n",
       "166070  [0, 0, 0, 0, 0, 0, 0, 0, 0, 0, 0, 0, 0, 0, 0, ...              1   \n",
       "36678   [0, 0, 0, 0, 0, 0, 0, 0, 0, 0, 0, 0, 0, 0, 0, ...              2   \n",
       "47645   [0, 0, 0, 0, 0, 0, 0, 0, 0, 0, 0, 0, 0, 0, 0, ...              0   \n",
       "120806  [0, 0, 0, 0, 0, 0, 0, 0, 0, 0, 0, 0, 0, 0, 0, ...              0   \n",
       "142833  [0, 0, 0, 0, 0, 0, 0, 0, 0, 0, 0, 0, 0, 0, 0, ...              0   \n",
       "168942  [0, 0, 0, 0, 0, 0, 0, 0, 0, 0, 0, 0, 0, 0, 0, ...              2   \n",
       "\n",
       "                        ingredient_ids  \n",
       "12656    [2683, 332, 6270, 6473, 4717]  \n",
       "34116    [2683, 332, 6270, 6473, 4717]  \n",
       "104153   [2683, 332, 6270, 6473, 4717]  \n",
       "127955   [2683, 332, 6270, 6473, 4717]  \n",
       "166070   [2683, 332, 6270, 6473, 4717]  \n",
       "36678   [4231, 4379, 5038, 7655, 6906]  \n",
       "47645   [4231, 4379, 5038, 7655, 6906]  \n",
       "120806  [4231, 4379, 5038, 7655, 6906]  \n",
       "142833  [4231, 4379, 5038, 7655, 6906]  \n",
       "168942  [4231, 4379, 5038, 7655, 6906]  "
      ]
     },
     "execution_count": 53,
     "metadata": {},
     "output_type": "execute_result"
    }
   ],
   "source": [
    "c = pd.concat(g for _, g in pp_recipes.groupby('ingredient_tokens') if len(g) == 5)\n",
    "c"
   ]
  },
  {
   "cell_type": "code",
   "execution_count": 63,
   "metadata": {},
   "outputs": [
    {
     "data": {
      "text/html": [
       "<div>\n",
       "<style scoped>\n",
       "    .dataframe tbody tr th:only-of-type {\n",
       "        vertical-align: middle;\n",
       "    }\n",
       "\n",
       "    .dataframe tbody tr th {\n",
       "        vertical-align: top;\n",
       "    }\n",
       "\n",
       "    .dataframe thead th {\n",
       "        text-align: right;\n",
       "    }\n",
       "</style>\n",
       "<table border=\"1\" class=\"dataframe\">\n",
       "  <thead>\n",
       "    <tr style=\"text-align: right;\">\n",
       "      <th></th>\n",
       "      <th>name</th>\n",
       "      <th>id</th>\n",
       "      <th>minutes</th>\n",
       "      <th>contributor_id</th>\n",
       "      <th>submitted</th>\n",
       "      <th>tags</th>\n",
       "      <th>nutrition</th>\n",
       "      <th>n_steps</th>\n",
       "      <th>steps</th>\n",
       "      <th>description</th>\n",
       "      <th>ingredients</th>\n",
       "      <th>n_ingredients</th>\n",
       "    </tr>\n",
       "  </thead>\n",
       "  <tbody>\n",
       "    <tr>\n",
       "      <th>10336</th>\n",
       "      <td>aunt frances  lemonade</td>\n",
       "      <td>182345</td>\n",
       "      <td>10</td>\n",
       "      <td>139541</td>\n",
       "      <td>2006-08-18</td>\n",
       "      <td>['15-minutes-or-less', 'time-to-make', 'course...</td>\n",
       "      <td>[1677.3, 4.0, 1466.0, 3.0, 29.0, 1.0, 156.0]</td>\n",
       "      <td>5</td>\n",
       "      <td>['squeeze the juice from 4 each of the lemons ...</td>\n",
       "      <td>the combination of fruits was a sweet and tang...</td>\n",
       "      <td>['lemons', 'limes', 'oranges', 'water', 'sugar']</td>\n",
       "      <td>5</td>\n",
       "    </tr>\n",
       "    <tr>\n",
       "      <th>18545</th>\n",
       "      <td>basic tea biscuits</td>\n",
       "      <td>2121</td>\n",
       "      <td>30</td>\n",
       "      <td>1796</td>\n",
       "      <td>1999-10-13</td>\n",
       "      <td>['30-minutes-or-less', 'time-to-make', 'course...</td>\n",
       "      <td>[111.9, 8.0, 0.0, 10.0, 4.0, 7.0, 4.0]</td>\n",
       "      <td>15</td>\n",
       "      <td>['preheat oven to 450 degrees f', 'combine dry...</td>\n",
       "      <td>NaN</td>\n",
       "      <td>['flour', 'baking powder', 'salt', 'shortening...</td>\n",
       "      <td>5</td>\n",
       "    </tr>\n",
       "    <tr>\n",
       "      <th>54499</th>\n",
       "      <td>citrusade citrus ade</td>\n",
       "      <td>370846</td>\n",
       "      <td>20</td>\n",
       "      <td>1072593</td>\n",
       "      <td>2009-05-08</td>\n",
       "      <td>['30-minutes-or-less', 'time-to-make', 'course...</td>\n",
       "      <td>[137.8, 0.0, 124.0, 0.0, 1.0, 0.0, 12.0]</td>\n",
       "      <td>6</td>\n",
       "      <td>['squeeze the juice from each fruit', 'pour in...</td>\n",
       "      <td>my kids grew up on this stuff.</td>\n",
       "      <td>['lemons', 'limes', 'oranges', 'water', 'sugar']</td>\n",
       "      <td>5</td>\n",
       "    </tr>\n",
       "    <tr>\n",
       "      <th>122738</th>\n",
       "      <td>lemonade   limeade   oranges too  wow</td>\n",
       "      <td>61729</td>\n",
       "      <td>15</td>\n",
       "      <td>41706</td>\n",
       "      <td>2003-05-08</td>\n",
       "      <td>['15-minutes-or-less', 'time-to-make', 'course...</td>\n",
       "      <td>[1806.8, 3.0, 1684.0, 4.0, 21.0, 1.0, 158.0]</td>\n",
       "      <td>7</td>\n",
       "      <td>['slice lemons , limes&amp; oranges thinly', 'plac...</td>\n",
       "      <td>this is so yummy - and easy to prepare! - a ni...</td>\n",
       "      <td>['lemons', 'limes', 'oranges', 'water', 'sugar']</td>\n",
       "      <td>5</td>\n",
       "    </tr>\n",
       "    <tr>\n",
       "      <th>122798</th>\n",
       "      <td>lemonade with a twist</td>\n",
       "      <td>155159</td>\n",
       "      <td>10</td>\n",
       "      <td>281399</td>\n",
       "      <td>2006-02-07</td>\n",
       "      <td>['15-minutes-or-less', 'time-to-make', 'course...</td>\n",
       "      <td>[102.3, 0.0, 88.0, 0.0, 1.0, 0.0, 9.0]</td>\n",
       "      <td>7</td>\n",
       "      <td>['squeeze the juice from lemons , limes and or...</td>\n",
       "      <td>very freshing on those hot days of summer</td>\n",
       "      <td>['lemons', 'limes', 'oranges', 'water', 'sugar']</td>\n",
       "      <td>5</td>\n",
       "    </tr>\n",
       "    <tr>\n",
       "      <th>123583</th>\n",
       "      <td>light and tasty biscuits</td>\n",
       "      <td>238085</td>\n",
       "      <td>30</td>\n",
       "      <td>282379</td>\n",
       "      <td>2007-07-01</td>\n",
       "      <td>['30-minutes-or-less', 'time-to-make', 'course...</td>\n",
       "      <td>[409.1, 29.0, 0.0, 22.0, 15.0, 27.0, 16.0]</td>\n",
       "      <td>9</td>\n",
       "      <td>['heat oven to 475 degrees', 'sift together fl...</td>\n",
       "      <td>i got this recipe from a neighbor-lady when i ...</td>\n",
       "      <td>['flour', 'baking powder', 'salt', 'shortening...</td>\n",
       "      <td>5</td>\n",
       "    </tr>\n",
       "    <tr>\n",
       "      <th>138061</th>\n",
       "      <td>mom s biscuits</td>\n",
       "      <td>242957</td>\n",
       "      <td>20</td>\n",
       "      <td>501839</td>\n",
       "      <td>2007-07-29</td>\n",
       "      <td>['30-minutes-or-less', 'time-to-make', 'course...</td>\n",
       "      <td>[361.9, 22.0, 0.0, 36.0, 14.0, 19.0, 16.0]</td>\n",
       "      <td>10</td>\n",
       "      <td>['combine dry ingredients', 'cut in shortening...</td>\n",
       "      <td>a light fluffy biscuit--- perfect with either ...</td>\n",
       "      <td>['flour', 'baking powder', 'salt', 'shortening...</td>\n",
       "      <td>5</td>\n",
       "    </tr>\n",
       "    <tr>\n",
       "      <th>143198</th>\n",
       "      <td>never fail dumplings</td>\n",
       "      <td>111790</td>\n",
       "      <td>30</td>\n",
       "      <td>195447</td>\n",
       "      <td>2005-02-23</td>\n",
       "      <td>['30-minutes-or-less', 'time-to-make', 'course...</td>\n",
       "      <td>[253.9, 16.0, 0.0, 22.0, 11.0, 15.0, 11.0]</td>\n",
       "      <td>6</td>\n",
       "      <td>['combine all dry ingredient together', 'cut i...</td>\n",
       "      <td>easy to make and you will always get great dum...</td>\n",
       "      <td>['flour', 'baking powder', 'salt', 'shortening...</td>\n",
       "      <td>5</td>\n",
       "    </tr>\n",
       "    <tr>\n",
       "      <th>168940</th>\n",
       "      <td>quick food processor biscuits</td>\n",
       "      <td>362018</td>\n",
       "      <td>17</td>\n",
       "      <td>1120293</td>\n",
       "      <td>2009-03-21</td>\n",
       "      <td>['30-minutes-or-less', 'time-to-make', 'course...</td>\n",
       "      <td>[409.1, 29.0, 0.0, 22.0, 15.0, 27.0, 16.0]</td>\n",
       "      <td>9</td>\n",
       "      <td>['preheat the oven to 475 degrees', 'put the f...</td>\n",
       "      <td>these light, tasty biscuits are very quick whe...</td>\n",
       "      <td>['flour', 'baking powder', 'salt', 'shortening...</td>\n",
       "      <td>5</td>\n",
       "    </tr>\n",
       "    <tr>\n",
       "      <th>192443</th>\n",
       "      <td>southern lemonade</td>\n",
       "      <td>92876</td>\n",
       "      <td>10</td>\n",
       "      <td>95114</td>\n",
       "      <td>2004-06-07</td>\n",
       "      <td>['15-minutes-or-less', 'time-to-make', 'course...</td>\n",
       "      <td>[139.8, 0.0, 122.0, 0.0, 2.0, 0.0, 13.0]</td>\n",
       "      <td>7</td>\n",
       "      <td>['squeeze the juice from 4 of each of the frui...</td>\n",
       "      <td>a thirst quenching drink that contains more th...</td>\n",
       "      <td>['lemons', 'limes', 'oranges', 'water', 'sugar']</td>\n",
       "      <td>5</td>\n",
       "    </tr>\n",
       "  </tbody>\n",
       "</table>\n",
       "</div>"
      ],
      "text/plain": [
       "                                         name      id  minutes  \\\n",
       "10336                  aunt frances  lemonade  182345       10   \n",
       "18545                      basic tea biscuits    2121       30   \n",
       "54499                    citrusade citrus ade  370846       20   \n",
       "122738  lemonade   limeade   oranges too  wow   61729       15   \n",
       "122798                  lemonade with a twist  155159       10   \n",
       "123583               light and tasty biscuits  238085       30   \n",
       "138061                         mom s biscuits  242957       20   \n",
       "143198                   never fail dumplings  111790       30   \n",
       "168940          quick food processor biscuits  362018       17   \n",
       "192443                      southern lemonade   92876       10   \n",
       "\n",
       "        contributor_id   submitted  \\\n",
       "10336           139541  2006-08-18   \n",
       "18545             1796  1999-10-13   \n",
       "54499          1072593  2009-05-08   \n",
       "122738           41706  2003-05-08   \n",
       "122798          281399  2006-02-07   \n",
       "123583          282379  2007-07-01   \n",
       "138061          501839  2007-07-29   \n",
       "143198          195447  2005-02-23   \n",
       "168940         1120293  2009-03-21   \n",
       "192443           95114  2004-06-07   \n",
       "\n",
       "                                                     tags  \\\n",
       "10336   ['15-minutes-or-less', 'time-to-make', 'course...   \n",
       "18545   ['30-minutes-or-less', 'time-to-make', 'course...   \n",
       "54499   ['30-minutes-or-less', 'time-to-make', 'course...   \n",
       "122738  ['15-minutes-or-less', 'time-to-make', 'course...   \n",
       "122798  ['15-minutes-or-less', 'time-to-make', 'course...   \n",
       "123583  ['30-minutes-or-less', 'time-to-make', 'course...   \n",
       "138061  ['30-minutes-or-less', 'time-to-make', 'course...   \n",
       "143198  ['30-minutes-or-less', 'time-to-make', 'course...   \n",
       "168940  ['30-minutes-or-less', 'time-to-make', 'course...   \n",
       "192443  ['15-minutes-or-less', 'time-to-make', 'course...   \n",
       "\n",
       "                                           nutrition  n_steps  \\\n",
       "10336   [1677.3, 4.0, 1466.0, 3.0, 29.0, 1.0, 156.0]        5   \n",
       "18545         [111.9, 8.0, 0.0, 10.0, 4.0, 7.0, 4.0]       15   \n",
       "54499       [137.8, 0.0, 124.0, 0.0, 1.0, 0.0, 12.0]        6   \n",
       "122738  [1806.8, 3.0, 1684.0, 4.0, 21.0, 1.0, 158.0]        7   \n",
       "122798        [102.3, 0.0, 88.0, 0.0, 1.0, 0.0, 9.0]        7   \n",
       "123583    [409.1, 29.0, 0.0, 22.0, 15.0, 27.0, 16.0]        9   \n",
       "138061    [361.9, 22.0, 0.0, 36.0, 14.0, 19.0, 16.0]       10   \n",
       "143198    [253.9, 16.0, 0.0, 22.0, 11.0, 15.0, 11.0]        6   \n",
       "168940    [409.1, 29.0, 0.0, 22.0, 15.0, 27.0, 16.0]        9   \n",
       "192443      [139.8, 0.0, 122.0, 0.0, 2.0, 0.0, 13.0]        7   \n",
       "\n",
       "                                                    steps  \\\n",
       "10336   ['squeeze the juice from 4 each of the lemons ...   \n",
       "18545   ['preheat oven to 450 degrees f', 'combine dry...   \n",
       "54499   ['squeeze the juice from each fruit', 'pour in...   \n",
       "122738  ['slice lemons , limes& oranges thinly', 'plac...   \n",
       "122798  ['squeeze the juice from lemons , limes and or...   \n",
       "123583  ['heat oven to 475 degrees', 'sift together fl...   \n",
       "138061  ['combine dry ingredients', 'cut in shortening...   \n",
       "143198  ['combine all dry ingredient together', 'cut i...   \n",
       "168940  ['preheat the oven to 475 degrees', 'put the f...   \n",
       "192443  ['squeeze the juice from 4 of each of the frui...   \n",
       "\n",
       "                                              description  \\\n",
       "10336   the combination of fruits was a sweet and tang...   \n",
       "18545                                                 NaN   \n",
       "54499                      my kids grew up on this stuff.   \n",
       "122738  this is so yummy - and easy to prepare! - a ni...   \n",
       "122798          very freshing on those hot days of summer   \n",
       "123583  i got this recipe from a neighbor-lady when i ...   \n",
       "138061  a light fluffy biscuit--- perfect with either ...   \n",
       "143198  easy to make and you will always get great dum...   \n",
       "168940  these light, tasty biscuits are very quick whe...   \n",
       "192443  a thirst quenching drink that contains more th...   \n",
       "\n",
       "                                              ingredients  n_ingredients  \n",
       "10336    ['lemons', 'limes', 'oranges', 'water', 'sugar']              5  \n",
       "18545   ['flour', 'baking powder', 'salt', 'shortening...              5  \n",
       "54499    ['lemons', 'limes', 'oranges', 'water', 'sugar']              5  \n",
       "122738   ['lemons', 'limes', 'oranges', 'water', 'sugar']              5  \n",
       "122798   ['lemons', 'limes', 'oranges', 'water', 'sugar']              5  \n",
       "123583  ['flour', 'baking powder', 'salt', 'shortening...              5  \n",
       "138061  ['flour', 'baking powder', 'salt', 'shortening...              5  \n",
       "143198  ['flour', 'baking powder', 'salt', 'shortening...              5  \n",
       "168940  ['flour', 'baking powder', 'salt', 'shortening...              5  \n",
       "192443   ['lemons', 'limes', 'oranges', 'water', 'sugar']              5  "
      ]
     },
     "execution_count": 63,
     "metadata": {},
     "output_type": "execute_result"
    }
   ],
   "source": [
    "raw_recipes.loc[raw_recipes['id'].isin(c['id'])]"
   ]
  },
  {
   "cell_type": "code",
   "execution_count": null,
   "metadata": {},
   "outputs": [],
   "source": []
  },
  {
   "cell_type": "code",
   "execution_count": 2,
   "metadata": {},
   "outputs": [],
   "source": [
    "import matplotlib.pyplot as plt"
   ]
  },
  {
   "cell_type": "code",
   "execution_count": 3,
   "metadata": {},
   "outputs": [
    {
     "data": {
      "text/plain": [
       "<BarContainer object of 5 artists>"
      ]
     },
     "execution_count": 3,
     "metadata": {},
     "output_type": "execute_result"
    },
    {
     "data": {
      "image/png": "[encoded data removed]",
      "text/plain": [
       "<Figure size 432x288 with 1 Axes>"
      ]
     },
     "metadata": {
      "needs_background": "light"
     },
     "output_type": "display_data"
    }
   ],
   "source": [
    "plt.bar([f'PS{i}' for i in range(1, 6)], range(1, 6))"
   ]
  },
  {
   "cell_type": "code",
   "execution_count": null,
   "metadata": {},
   "outputs": [],
   "source": []
  },
  {
   "cell_type": "code",
   "execution_count": 48,
   "metadata": {},
   "outputs": [],
   "source": [
    "avg_and_count = pd.DataFrame(train_df.groupby('recipe_id')['rating'].mean())\n",
    "avg_and_count = avg_and_count.rename(columns={'rating': 'avg_rating'})\n",
    "avg_and_count['ratings_count'] = train_df.groupby('recipe_id')['rating'].count()"
   ]
  },
  {
   "cell_type": "code",
   "execution_count": 49,
   "metadata": {},
   "outputs": [
    {
     "data": {
      "text/html": [
       "<div>\n",
       "<style scoped>\n",
       "    .dataframe tbody tr th:only-of-type {\n",
       "        vertical-align: middle;\n",
       "    }\n",
       "\n",
       "    .dataframe tbody tr th {\n",
       "        vertical-align: top;\n",
       "    }\n",
       "\n",
       "    .dataframe thead th {\n",
       "        text-align: right;\n",
       "    }\n",
       "</style>\n",
       "<table border=\"1\" class=\"dataframe\">\n",
       "  <thead>\n",
       "    <tr style=\"text-align: right;\">\n",
       "      <th></th>\n",
       "      <th>avg_rating</th>\n",
       "      <th>ratings_count</th>\n",
       "    </tr>\n",
       "    <tr>\n",
       "      <th>recipe_id</th>\n",
       "      <th></th>\n",
       "      <th></th>\n",
       "    </tr>\n",
       "  </thead>\n",
       "  <tbody>\n",
       "    <tr>\n",
       "      <th>38</th>\n",
       "      <td>4.333333</td>\n",
       "      <td>3</td>\n",
       "    </tr>\n",
       "    <tr>\n",
       "      <th>40</th>\n",
       "      <td>4.800000</td>\n",
       "      <td>5</td>\n",
       "    </tr>\n",
       "    <tr>\n",
       "      <th>45</th>\n",
       "      <td>4.000000</td>\n",
       "      <td>2</td>\n",
       "    </tr>\n",
       "    <tr>\n",
       "      <th>46</th>\n",
       "      <td>5.000000</td>\n",
       "      <td>2</td>\n",
       "    </tr>\n",
       "    <tr>\n",
       "      <th>49</th>\n",
       "      <td>4.000000</td>\n",
       "      <td>12</td>\n",
       "    </tr>\n",
       "    <tr>\n",
       "      <th>...</th>\n",
       "      <td>...</td>\n",
       "      <td>...</td>\n",
       "    </tr>\n",
       "    <tr>\n",
       "      <th>536729</th>\n",
       "      <td>4.750000</td>\n",
       "      <td>4</td>\n",
       "    </tr>\n",
       "    <tr>\n",
       "      <th>536990</th>\n",
       "      <td>5.000000</td>\n",
       "      <td>1</td>\n",
       "    </tr>\n",
       "    <tr>\n",
       "      <th>537175</th>\n",
       "      <td>5.000000</td>\n",
       "      <td>1</td>\n",
       "    </tr>\n",
       "    <tr>\n",
       "      <th>537319</th>\n",
       "      <td>3.000000</td>\n",
       "      <td>1</td>\n",
       "    </tr>\n",
       "    <tr>\n",
       "      <th>537458</th>\n",
       "      <td>5.000000</td>\n",
       "      <td>1</td>\n",
       "    </tr>\n",
       "  </tbody>\n",
       "</table>\n",
       "<p>160901 rows × 2 columns</p>\n",
       "</div>"
      ],
      "text/plain": [
       "           avg_rating  ratings_count\n",
       "recipe_id                           \n",
       "38           4.333333              3\n",
       "40           4.800000              5\n",
       "45           4.000000              2\n",
       "46           5.000000              2\n",
       "49           4.000000             12\n",
       "...               ...            ...\n",
       "536729       4.750000              4\n",
       "536990       5.000000              1\n",
       "537175       5.000000              1\n",
       "537319       3.000000              1\n",
       "537458       5.000000              1\n",
       "\n",
       "[160901 rows x 2 columns]"
      ]
     },
     "execution_count": 49,
     "metadata": {},
     "output_type": "execute_result"
    }
   ],
   "source": [
    "avg_and_count"
   ]
  },
  {
   "cell_type": "code",
   "execution_count": 50,
   "metadata": {},
   "outputs": [
    {
     "data": {
      "image/png": "[encoded data removed]",
      "text/plain": [
       "<Figure size 432x432 with 3 Axes>"
      ]
     },
     "metadata": {},
     "output_type": "display_data"
    }
   ],
   "source": [
    "sns.jointplot(x='ratings_count', y='avg_rating', data=avg_and_count);"
   ]
  },
  {
   "cell_type": "code",
   "execution_count": 57,
   "metadata": {},
   "outputs": [
    {
     "data": {
      "image/png": "[encoded data removed]",
      "text/plain": [
       "<Figure size 432x432 with 3 Axes>"
      ]
     },
     "metadata": {},
     "output_type": "display_data"
    }
   ],
   "source": [
    "sns.jointplot(x='ratings_count', y='avg_rating', data=avg_and_count[avg_and_count['ratings_count'] >= 5]);"
   ]
  }
 ],
 "metadata": {
  "kernelspec": {
   "display_name": "Q-RecSys",
   "language": "python",
   "name": "q-recsys"
  },
  "language_info": {
   "codemirror_mode": {
    "name": "ipython",
    "version": 3
   },
   "file_extension": ".py",
   "mimetype": "text/x-python",
   "name": "python",
   "nbconvert_exporter": "python",
   "pygments_lexer": "ipython3",
   "version": "3.8.0"
  }
 },
 "nbformat": 4,
 "nbformat_minor": 4
}
